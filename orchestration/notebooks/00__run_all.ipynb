{
 "cells": [
  {
   "cell_type": "markdown",
   "id": "f6bbff9c",
   "metadata": {},
   "source": [
    "# 🔧 Run All Setup Tasks\n",
    "\n",
    "This notebook automates the common steps:\n",
    "1. Install dependencies (if running in fresh env)\n",
    "2. Check `.env`\n",
    "3. Run BigQuery setup\n",
    "4. Run Vertex AI Search export/setup\n",
    "5. Run pytest suite\n",
    "\n",
    "⚠️ Requires: `.env` populated and `gcloud auth application-default login` done once."
   ]
  },
  {
   "cell_type": "code",
   "execution_count": 3,
   "id": "297aacb3",
   "metadata": {},
   "outputs": [
    {
     "name": "stdout",
     "output_type": "stream",
     "text": [
      "Repo root: C:\\Users\\reube\\OneDrive\\Desktop\\Kaggle\\geomarket-insight\n",
      "Python exe: C:\\Users\\reube\\AppData\\Local\\Microsoft\\WindowsApps\\PythonSoftwareFoundation.Python.3.11_qbz5n2kfra8p0\\python.exe\n",
      "sys.path[0]: C:\\Users\\reube\\OneDrive\\Desktop\\Kaggle\\geomarket-insight\n"
     ]
    }
   ],
   "source": [
    "# --- Make repo imports (app/, agents/, data/, shared/) work inside this notebook ---\n",
    "import os, sys, pathlib, subprocess\n",
    "\n",
    "def find_repo_root(start: pathlib.Path | None = None) -> pathlib.Path | None:\n",
    "    \"\"\"\n",
    "    Find the repo root by (in order):\n",
    "    1) GIT root if available\n",
    "    2) Presence of requirements/pyproject + at least one of the new top-level dirs\n",
    "    \"\"\"\n",
    "    start = start or pathlib.Path().resolve()\n",
    "\n",
    "    # 1) Try git\n",
    "    try:\n",
    "        git_root = subprocess.check_output(\n",
    "            [\"git\", \"rev-parse\", \"--show-toplevel\"],\n",
    "            cwd=str(start),\n",
    "            text=True\n",
    "        ).strip()\n",
    "        p = pathlib.Path(git_root)\n",
    "        if (p / \"requirements.txt\").exists() or (p / \"pyproject.toml\").exists():\n",
    "            return p\n",
    "    except Exception:\n",
    "        pass\n",
    "\n",
    "    # 2) Walk upwards looking for new layout markers\n",
    "    markers = {\"app\", \"agents\", \"data\", \"shared\"}\n",
    "    for p in [start, *start.parents]:\n",
    "        has_manifest = (p / \"requirements.txt\").exists() or (p / \"pyproject.toml\").exists()\n",
    "        has_any_marker = any((p / m).exists() for m in markers)\n",
    "        if has_manifest and has_any_marker:\n",
    "            return p\n",
    "    return None\n",
    "\n",
    "root = find_repo_root()\n",
    "if root is None:\n",
    "    raise RuntimeError(\n",
    "        \"Could not locate repo root. Ensure this notebook is inside the repo \"\n",
    "        \"or set REPO_ROOT to your repo path.\"\n",
    "    )\n",
    "\n",
    "# Optional: allow manual override via env var\n",
    "root = pathlib.Path(os.getenv(\"REPO_ROOT\", str(root))).resolve()\n",
    "\n",
    "# 1) Put repo root at the front of sys.path so `import agents`, `import shared`, etc. work\n",
    "root_str = str(root)\n",
    "if root_str not in sys.path:\n",
    "    sys.path.insert(0, root_str)\n",
    "\n",
    "# 2) Switch working dir to repo root so relative paths work\n",
    "os.chdir(root_str)\n",
    "\n",
    "print(\"Repo root:\", root_str)\n",
    "print(\"Python exe:\", sys.executable)\n",
    "print(\"sys.path[0]:\", sys.path[0])\n"
   ]
  },
  {
   "cell_type": "code",
   "execution_count": 2,
   "id": "f5d157be",
   "metadata": {},
   "outputs": [
    {
     "name": "stdout",
     "output_type": "stream",
     "text": [
      "Requirement already satisfied: python-dotenv==1.1.1 in c:\\users\\reube\\appdata\\local\\packages\\pythonsoftwarefoundation.python.3.11_qbz5n2kfra8p0\\localcache\\local-packages\\python311\\site-packages (from -r requirements.txt (line 1)) (1.1.1)\n",
      "Requirement already satisfied: google-auth==2.40.3 in c:\\users\\reube\\appdata\\local\\packages\\pythonsoftwarefoundation.python.3.11_qbz5n2kfra8p0\\localcache\\local-packages\\python311\\site-packages (from -r requirements.txt (line 2)) (2.40.3)\n",
      "Requirement already satisfied: google-cloud-bigquery==3.36.0 in c:\\users\\reube\\appdata\\local\\packages\\pythonsoftwarefoundation.python.3.11_qbz5n2kfra8p0\\localcache\\local-packages\\python311\\site-packages (from -r requirements.txt (line 3)) (3.36.0)\n",
      "Requirement already satisfied: google-cloud-discoveryengine==0.13.11 in c:\\users\\reube\\appdata\\local\\packages\\pythonsoftwarefoundation.python.3.11_qbz5n2kfra8p0\\localcache\\local-packages\\python311\\site-packages (from -r requirements.txt (line 4)) (0.13.11)\n",
      "Requirement already satisfied: google-cloud-storage==2.19.0 in c:\\users\\reube\\appdata\\local\\packages\\pythonsoftwarefoundation.python.3.11_qbz5n2kfra8p0\\localcache\\local-packages\\python311\\site-packages (from -r requirements.txt (line 5)) (2.19.0)\n",
      "Requirement already satisfied: pydantic==2.11.7 in c:\\users\\reube\\appdata\\local\\packages\\pythonsoftwarefoundation.python.3.11_qbz5n2kfra8p0\\localcache\\local-packages\\python311\\site-packages (from -r requirements.txt (line 6)) (2.11.7)\n",
      "Requirement already satisfied: pytest==8.4.1 in c:\\users\\reube\\appdata\\local\\packages\\pythonsoftwarefoundation.python.3.11_qbz5n2kfra8p0\\localcache\\local-packages\\python311\\site-packages (from -r requirements.txt (line 8)) (8.4.1)\n",
      "Requirement already satisfied: invoke==2.2.0 in c:\\users\\reube\\appdata\\local\\packages\\pythonsoftwarefoundation.python.3.11_qbz5n2kfra8p0\\localcache\\local-packages\\python311\\site-packages (from -r requirements.txt (line 9)) (2.2.0)\n",
      "Requirement already satisfied: google-api-core==2.25.1 in c:\\users\\reube\\appdata\\local\\packages\\pythonsoftwarefoundation.python.3.11_qbz5n2kfra8p0\\localcache\\local-packages\\python311\\site-packages (from -r requirements.txt (line 11)) (2.25.1)\n",
      "Requirement already satisfied: fastapi==0.116.1 in c:\\users\\reube\\appdata\\local\\packages\\pythonsoftwarefoundation.python.3.11_qbz5n2kfra8p0\\localcache\\local-packages\\python311\\site-packages (from -r requirements.txt (line 12)) (0.116.1)\n",
      "Requirement already satisfied: google-genai==1.32.0 in c:\\users\\reube\\appdata\\local\\packages\\pythonsoftwarefoundation.python.3.11_qbz5n2kfra8p0\\localcache\\local-packages\\python311\\site-packages (from -r requirements.txt (line 13)) (1.32.0)\n",
      "Requirement already satisfied: google-cloud-aiplatform>=1.74.0 in c:\\users\\reube\\appdata\\local\\packages\\pythonsoftwarefoundation.python.3.11_qbz5n2kfra8p0\\localcache\\local-packages\\python311\\site-packages (from -r requirements.txt (line 14)) (1.111.0)\n",
      "Requirement already satisfied: google-adk==1.13.0 in c:\\users\\reube\\appdata\\local\\packages\\pythonsoftwarefoundation.python.3.11_qbz5n2kfra8p0\\localcache\\local-packages\\python311\\site-packages (from -r requirements.txt (line 15)) (1.13.0)\n",
      "Requirement already satisfied: cachetools<6.0,>=2.0.0 in c:\\users\\reube\\appdata\\local\\packages\\pythonsoftwarefoundation.python.3.11_qbz5n2kfra8p0\\localcache\\local-packages\\python311\\site-packages (from google-auth==2.40.3->-r requirements.txt (line 2)) (5.5.2)\n",
      "Requirement already satisfied: pyasn1-modules>=0.2.1 in c:\\users\\reube\\appdata\\local\\packages\\pythonsoftwarefoundation.python.3.11_qbz5n2kfra8p0\\localcache\\local-packages\\python311\\site-packages (from google-auth==2.40.3->-r requirements.txt (line 2)) (0.4.2)\n",
      "Requirement already satisfied: rsa<5,>=3.1.4 in c:\\users\\reube\\appdata\\local\\packages\\pythonsoftwarefoundation.python.3.11_qbz5n2kfra8p0\\localcache\\local-packages\\python311\\site-packages (from google-auth==2.40.3->-r requirements.txt (line 2)) (4.9.1)\n",
      "Requirement already satisfied: google-cloud-core<3.0.0,>=2.4.1 in c:\\users\\reube\\appdata\\local\\packages\\pythonsoftwarefoundation.python.3.11_qbz5n2kfra8p0\\localcache\\local-packages\\python311\\site-packages (from google-cloud-bigquery==3.36.0->-r requirements.txt (line 3)) (2.4.3)\n",
      "Requirement already satisfied: google-resumable-media<3.0.0,>=2.0.0 in c:\\users\\reube\\appdata\\local\\packages\\pythonsoftwarefoundation.python.3.11_qbz5n2kfra8p0\\localcache\\local-packages\\python311\\site-packages (from google-cloud-bigquery==3.36.0->-r requirements.txt (line 3)) (2.7.2)\n",
      "Requirement already satisfied: packaging>=24.2.0 in c:\\users\\reube\\appdata\\local\\packages\\pythonsoftwarefoundation.python.3.11_qbz5n2kfra8p0\\localcache\\local-packages\\python311\\site-packages (from google-cloud-bigquery==3.36.0->-r requirements.txt (line 3)) (25.0)\n",
      "Requirement already satisfied: python-dateutil<3.0.0,>=2.8.2 in c:\\users\\reube\\appdata\\local\\packages\\pythonsoftwarefoundation.python.3.11_qbz5n2kfra8p0\\localcache\\local-packages\\python311\\site-packages (from google-cloud-bigquery==3.36.0->-r requirements.txt (line 3)) (2.9.0.post0)\n",
      "Requirement already satisfied: requests<3.0.0,>=2.21.0 in c:\\users\\reube\\appdata\\local\\packages\\pythonsoftwarefoundation.python.3.11_qbz5n2kfra8p0\\localcache\\local-packages\\python311\\site-packages (from google-cloud-bigquery==3.36.0->-r requirements.txt (line 3)) (2.32.5)\n",
      "Requirement already satisfied: proto-plus<2.0.0,>=1.22.3 in c:\\users\\reube\\appdata\\local\\packages\\pythonsoftwarefoundation.python.3.11_qbz5n2kfra8p0\\localcache\\local-packages\\python311\\site-packages (from google-cloud-discoveryengine==0.13.11->-r requirements.txt (line 4)) (1.26.1)\n",
      "Requirement already satisfied: protobuf!=4.21.0,!=4.21.1,!=4.21.2,!=4.21.3,!=4.21.4,!=4.21.5,<7.0.0,>=3.20.2 in c:\\users\\reube\\appdata\\local\\packages\\pythonsoftwarefoundation.python.3.11_qbz5n2kfra8p0\\localcache\\local-packages\\python311\\site-packages (from google-cloud-discoveryengine==0.13.11->-r requirements.txt (line 4)) (6.32.0)\n",
      "Requirement already satisfied: google-crc32c<2.0dev,>=1.0 in c:\\users\\reube\\appdata\\local\\packages\\pythonsoftwarefoundation.python.3.11_qbz5n2kfra8p0\\localcache\\local-packages\\python311\\site-packages (from google-cloud-storage==2.19.0->-r requirements.txt (line 5)) (1.7.1)\n",
      "Requirement already satisfied: annotated-types>=0.6.0 in c:\\users\\reube\\appdata\\local\\packages\\pythonsoftwarefoundation.python.3.11_qbz5n2kfra8p0\\localcache\\local-packages\\python311\\site-packages (from pydantic==2.11.7->-r requirements.txt (line 6)) (0.7.0)\n",
      "Requirement already satisfied: pydantic-core==2.33.2 in c:\\users\\reube\\appdata\\local\\packages\\pythonsoftwarefoundation.python.3.11_qbz5n2kfra8p0\\localcache\\local-packages\\python311\\site-packages (from pydantic==2.11.7->-r requirements.txt (line 6)) (2.33.2)\n",
      "Requirement already satisfied: typing-extensions>=4.12.2 in c:\\users\\reube\\appdata\\local\\packages\\pythonsoftwarefoundation.python.3.11_qbz5n2kfra8p0\\localcache\\local-packages\\python311\\site-packages (from pydantic==2.11.7->-r requirements.txt (line 6)) (4.14.1)\n",
      "Requirement already satisfied: typing-inspection>=0.4.0 in c:\\users\\reube\\appdata\\local\\packages\\pythonsoftwarefoundation.python.3.11_qbz5n2kfra8p0\\localcache\\local-packages\\python311\\site-packages (from pydantic==2.11.7->-r requirements.txt (line 6)) (0.4.1)\n",
      "Requirement already satisfied: colorama>=0.4 in c:\\users\\reube\\appdata\\local\\packages\\pythonsoftwarefoundation.python.3.11_qbz5n2kfra8p0\\localcache\\local-packages\\python311\\site-packages (from pytest==8.4.1->-r requirements.txt (line 8)) (0.4.6)\n",
      "Requirement already satisfied: iniconfig>=1 in c:\\users\\reube\\appdata\\local\\packages\\pythonsoftwarefoundation.python.3.11_qbz5n2kfra8p0\\localcache\\local-packages\\python311\\site-packages (from pytest==8.4.1->-r requirements.txt (line 8)) (2.1.0)\n",
      "Requirement already satisfied: pluggy<2,>=1.5 in c:\\users\\reube\\appdata\\local\\packages\\pythonsoftwarefoundation.python.3.11_qbz5n2kfra8p0\\localcache\\local-packages\\python311\\site-packages (from pytest==8.4.1->-r requirements.txt (line 8)) (1.6.0)\n",
      "Requirement already satisfied: pygments>=2.7.2 in c:\\users\\reube\\appdata\\local\\packages\\pythonsoftwarefoundation.python.3.11_qbz5n2kfra8p0\\localcache\\local-packages\\python311\\site-packages (from pytest==8.4.1->-r requirements.txt (line 8)) (2.19.2)\n",
      "Requirement already satisfied: googleapis-common-protos<2.0.0,>=1.56.2 in c:\\users\\reube\\appdata\\local\\packages\\pythonsoftwarefoundation.python.3.11_qbz5n2kfra8p0\\localcache\\local-packages\\python311\\site-packages (from google-api-core==2.25.1->-r requirements.txt (line 11)) (1.70.0)\n",
      "Requirement already satisfied: starlette<0.48.0,>=0.40.0 in c:\\users\\reube\\appdata\\local\\packages\\pythonsoftwarefoundation.python.3.11_qbz5n2kfra8p0\\localcache\\local-packages\\python311\\site-packages (from fastapi==0.116.1->-r requirements.txt (line 12)) (0.47.3)\n",
      "Requirement already satisfied: anyio<5.0.0,>=4.8.0 in c:\\users\\reube\\appdata\\local\\packages\\pythonsoftwarefoundation.python.3.11_qbz5n2kfra8p0\\localcache\\local-packages\\python311\\site-packages (from google-genai==1.32.0->-r requirements.txt (line 13)) (4.10.0)\n",
      "Requirement already satisfied: httpx<1.0.0,>=0.28.1 in c:\\users\\reube\\appdata\\local\\packages\\pythonsoftwarefoundation.python.3.11_qbz5n2kfra8p0\\localcache\\local-packages\\python311\\site-packages (from google-genai==1.32.0->-r requirements.txt (line 13)) (0.28.1)\n",
      "Requirement already satisfied: tenacity<9.2.0,>=8.2.3 in c:\\users\\reube\\appdata\\local\\packages\\pythonsoftwarefoundation.python.3.11_qbz5n2kfra8p0\\localcache\\local-packages\\python311\\site-packages (from google-genai==1.32.0->-r requirements.txt (line 13)) (8.5.0)\n",
      "Requirement already satisfied: websockets<15.1.0,>=13.0.0 in c:\\users\\reube\\appdata\\local\\packages\\pythonsoftwarefoundation.python.3.11_qbz5n2kfra8p0\\localcache\\local-packages\\python311\\site-packages (from google-genai==1.32.0->-r requirements.txt (line 13)) (15.0.1)\n",
      "Requirement already satisfied: PyYAML<7.0.0,>=6.0.2 in c:\\users\\reube\\appdata\\local\\packages\\pythonsoftwarefoundation.python.3.11_qbz5n2kfra8p0\\localcache\\local-packages\\python311\\site-packages (from google-adk==1.13.0->-r requirements.txt (line 15)) (6.0.2)\n",
      "Requirement already satisfied: absolufy-imports<1.0.0,>=0.3.1 in c:\\users\\reube\\appdata\\local\\packages\\pythonsoftwarefoundation.python.3.11_qbz5n2kfra8p0\\localcache\\local-packages\\python311\\site-packages (from google-adk==1.13.0->-r requirements.txt (line 15)) (0.3.1)\n",
      "Requirement already satisfied: authlib<2.0.0,>=1.5.1 in c:\\users\\reube\\appdata\\local\\packages\\pythonsoftwarefoundation.python.3.11_qbz5n2kfra8p0\\localcache\\local-packages\\python311\\site-packages (from google-adk==1.13.0->-r requirements.txt (line 15)) (1.6.3)\n",
      "Requirement already satisfied: click<9.0.0,>=8.1.8 in c:\\users\\reube\\appdata\\local\\packages\\pythonsoftwarefoundation.python.3.11_qbz5n2kfra8p0\\localcache\\local-packages\\python311\\site-packages (from google-adk==1.13.0->-r requirements.txt (line 15)) (8.2.1)\n",
      "Requirement already satisfied: google-api-python-client<3.0.0,>=2.157.0 in c:\\users\\reube\\appdata\\local\\packages\\pythonsoftwarefoundation.python.3.11_qbz5n2kfra8p0\\localcache\\local-packages\\python311\\site-packages (from google-adk==1.13.0->-r requirements.txt (line 15)) (2.179.0)\n",
      "Requirement already satisfied: google-cloud-bigtable>=2.32.0 in c:\\users\\reube\\appdata\\local\\packages\\pythonsoftwarefoundation.python.3.11_qbz5n2kfra8p0\\localcache\\local-packages\\python311\\site-packages (from google-adk==1.13.0->-r requirements.txt (line 15)) (2.32.0)\n",
      "Requirement already satisfied: google-cloud-secret-manager<3.0.0,>=2.22.0 in c:\\users\\reube\\appdata\\local\\packages\\pythonsoftwarefoundation.python.3.11_qbz5n2kfra8p0\\localcache\\local-packages\\python311\\site-packages (from google-adk==1.13.0->-r requirements.txt (line 15)) (2.24.0)\n",
      "Requirement already satisfied: google-cloud-spanner<4.0.0,>=3.56.0 in c:\\users\\reube\\appdata\\local\\packages\\pythonsoftwarefoundation.python.3.11_qbz5n2kfra8p0\\localcache\\local-packages\\python311\\site-packages (from google-adk==1.13.0->-r requirements.txt (line 15)) (3.57.0)\n",
      "Requirement already satisfied: google-cloud-speech<3.0.0,>=2.30.0 in c:\\users\\reube\\appdata\\local\\packages\\pythonsoftwarefoundation.python.3.11_qbz5n2kfra8p0\\localcache\\local-packages\\python311\\site-packages (from google-adk==1.13.0->-r requirements.txt (line 15)) (2.33.0)\n",
      "Requirement already satisfied: graphviz<1.0.0,>=0.20.2 in c:\\users\\reube\\appdata\\local\\packages\\pythonsoftwarefoundation.python.3.11_qbz5n2kfra8p0\\localcache\\local-packages\\python311\\site-packages (from google-adk==1.13.0->-r requirements.txt (line 15)) (0.21)\n",
      "Requirement already satisfied: mcp<2.0.0,>=1.8.0 in c:\\users\\reube\\appdata\\local\\packages\\pythonsoftwarefoundation.python.3.11_qbz5n2kfra8p0\\localcache\\local-packages\\python311\\site-packages (from google-adk==1.13.0->-r requirements.txt (line 15)) (1.13.1)\n",
      "Requirement already satisfied: opentelemetry-api<2.0.0,>=1.31.0 in c:\\users\\reube\\appdata\\local\\packages\\pythonsoftwarefoundation.python.3.11_qbz5n2kfra8p0\\localcache\\local-packages\\python311\\site-packages (from google-adk==1.13.0->-r requirements.txt (line 15)) (1.36.0)\n",
      "Requirement already satisfied: opentelemetry-exporter-gcp-trace<2.0.0,>=1.9.0 in c:\\users\\reube\\appdata\\local\\packages\\pythonsoftwarefoundation.python.3.11_qbz5n2kfra8p0\\localcache\\local-packages\\python311\\site-packages (from google-adk==1.13.0->-r requirements.txt (line 15)) (1.9.0)\n",
      "Requirement already satisfied: opentelemetry-sdk<2.0.0,>=1.31.0 in c:\\users\\reube\\appdata\\local\\packages\\pythonsoftwarefoundation.python.3.11_qbz5n2kfra8p0\\localcache\\local-packages\\python311\\site-packages (from google-adk==1.13.0->-r requirements.txt (line 15)) (1.36.0)\n",
      "Requirement already satisfied: sqlalchemy-spanner>=1.14.0 in c:\\users\\reube\\appdata\\local\\packages\\pythonsoftwarefoundation.python.3.11_qbz5n2kfra8p0\\localcache\\local-packages\\python311\\site-packages (from google-adk==1.13.0->-r requirements.txt (line 15)) (1.15.0)\n",
      "Requirement already satisfied: sqlalchemy<3.0.0,>=2.0 in c:\\users\\reube\\appdata\\local\\packages\\pythonsoftwarefoundation.python.3.11_qbz5n2kfra8p0\\localcache\\local-packages\\python311\\site-packages (from google-adk==1.13.0->-r requirements.txt (line 15)) (2.0.43)\n",
      "Requirement already satisfied: tzlocal<6.0,>=5.3 in c:\\users\\reube\\appdata\\local\\packages\\pythonsoftwarefoundation.python.3.11_qbz5n2kfra8p0\\localcache\\local-packages\\python311\\site-packages (from google-adk==1.13.0->-r requirements.txt (line 15)) (5.3.1)\n",
      "Requirement already satisfied: uvicorn<1.0.0,>=0.34.0 in c:\\users\\reube\\appdata\\local\\packages\\pythonsoftwarefoundation.python.3.11_qbz5n2kfra8p0\\localcache\\local-packages\\python311\\site-packages (from google-adk==1.13.0->-r requirements.txt (line 15)) (0.35.0)\n",
      "Requirement already satisfied: watchdog<7.0.0,>=6.0.0 in c:\\users\\reube\\appdata\\local\\packages\\pythonsoftwarefoundation.python.3.11_qbz5n2kfra8p0\\localcache\\local-packages\\python311\\site-packages (from google-adk==1.13.0->-r requirements.txt (line 15)) (6.0.0)\n",
      "Requirement already satisfied: google-cloud-resource-manager<3.0.0,>=1.3.3 in c:\\users\\reube\\appdata\\local\\packages\\pythonsoftwarefoundation.python.3.11_qbz5n2kfra8p0\\localcache\\local-packages\\python311\\site-packages (from google-cloud-aiplatform>=1.74.0->-r requirements.txt (line 14)) (1.14.2)\n",
      "Requirement already satisfied: shapely<3.0.0 in c:\\users\\reube\\appdata\\local\\packages\\pythonsoftwarefoundation.python.3.11_qbz5n2kfra8p0\\localcache\\local-packages\\python311\\site-packages (from google-cloud-aiplatform>=1.74.0->-r requirements.txt (line 14)) (2.1.1)\n",
      "Requirement already satisfied: docstring_parser<1 in c:\\users\\reube\\appdata\\local\\packages\\pythonsoftwarefoundation.python.3.11_qbz5n2kfra8p0\\localcache\\local-packages\\python311\\site-packages (from google-cloud-aiplatform>=1.74.0->-r requirements.txt (line 14)) (0.17.0)\n",
      "Requirement already satisfied: idna>=2.8 in c:\\users\\reube\\appdata\\local\\packages\\pythonsoftwarefoundation.python.3.11_qbz5n2kfra8p0\\localcache\\local-packages\\python311\\site-packages (from anyio<5.0.0,>=4.8.0->google-genai==1.32.0->-r requirements.txt (line 13)) (3.10)\n",
      "Requirement already satisfied: sniffio>=1.1 in c:\\users\\reube\\appdata\\local\\packages\\pythonsoftwarefoundation.python.3.11_qbz5n2kfra8p0\\localcache\\local-packages\\python311\\site-packages (from anyio<5.0.0,>=4.8.0->google-genai==1.32.0->-r requirements.txt (line 13)) (1.3.1)\n",
      "Requirement already satisfied: cryptography in c:\\users\\reube\\appdata\\local\\packages\\pythonsoftwarefoundation.python.3.11_qbz5n2kfra8p0\\localcache\\local-packages\\python311\\site-packages (from authlib<2.0.0,>=1.5.1->google-adk==1.13.0->-r requirements.txt (line 15)) (45.0.6)\n",
      "Requirement already satisfied: grpcio<2.0.0,>=1.33.2 in c:\\users\\reube\\appdata\\local\\packages\\pythonsoftwarefoundation.python.3.11_qbz5n2kfra8p0\\localcache\\local-packages\\python311\\site-packages (from google-api-core[grpc]<3.0.0,>=2.11.1->google-cloud-bigquery==3.36.0->-r requirements.txt (line 3)) (1.74.0)\n",
      "Requirement already satisfied: grpcio-status<2.0.0,>=1.33.2 in c:\\users\\reube\\appdata\\local\\packages\\pythonsoftwarefoundation.python.3.11_qbz5n2kfra8p0\\localcache\\local-packages\\python311\\site-packages (from google-api-core[grpc]<3.0.0,>=2.11.1->google-cloud-bigquery==3.36.0->-r requirements.txt (line 3)) (1.74.0)\n",
      "Requirement already satisfied: httplib2<1.0.0,>=0.19.0 in c:\\users\\reube\\appdata\\local\\packages\\pythonsoftwarefoundation.python.3.11_qbz5n2kfra8p0\\localcache\\local-packages\\python311\\site-packages (from google-api-python-client<3.0.0,>=2.157.0->google-adk==1.13.0->-r requirements.txt (line 15)) (0.22.0)\n",
      "Requirement already satisfied: google-auth-httplib2<1.0.0,>=0.2.0 in c:\\users\\reube\\appdata\\local\\packages\\pythonsoftwarefoundation.python.3.11_qbz5n2kfra8p0\\localcache\\local-packages\\python311\\site-packages (from google-api-python-client<3.0.0,>=2.157.0->google-adk==1.13.0->-r requirements.txt (line 15)) (0.2.0)\n",
      "Requirement already satisfied: uritemplate<5,>=3.0.1 in c:\\users\\reube\\appdata\\local\\packages\\pythonsoftwarefoundation.python.3.11_qbz5n2kfra8p0\\localcache\\local-packages\\python311\\site-packages (from google-api-python-client<3.0.0,>=2.157.0->google-adk==1.13.0->-r requirements.txt (line 15)) (4.2.0)\n",
      "Requirement already satisfied: cloudpickle<4.0,>=3.0 in c:\\users\\reube\\appdata\\local\\packages\\pythonsoftwarefoundation.python.3.11_qbz5n2kfra8p0\\localcache\\local-packages\\python311\\site-packages (from google-cloud-aiplatform[agent-engines]<2.0.0,>=1.95.1->google-adk==1.13.0->-r requirements.txt (line 15)) (3.1.1)\n",
      "Requirement already satisfied: google-cloud-trace<2 in c:\\users\\reube\\appdata\\local\\packages\\pythonsoftwarefoundation.python.3.11_qbz5n2kfra8p0\\localcache\\local-packages\\python311\\site-packages (from google-cloud-aiplatform[agent-engines]<2.0.0,>=1.95.1->google-adk==1.13.0->-r requirements.txt (line 15)) (1.16.2)\n",
      "Requirement already satisfied: google-cloud-logging<4 in c:\\users\\reube\\appdata\\local\\packages\\pythonsoftwarefoundation.python.3.11_qbz5n2kfra8p0\\localcache\\local-packages\\python311\\site-packages (from google-cloud-aiplatform[agent-engines]<2.0.0,>=1.95.1->google-adk==1.13.0->-r requirements.txt (line 15)) (3.12.1)\n",
      "Requirement already satisfied: grpc-google-iam-v1<1.0.0,>=0.12.4 in c:\\users\\reube\\appdata\\local\\packages\\pythonsoftwarefoundation.python.3.11_qbz5n2kfra8p0\\localcache\\local-packages\\python311\\site-packages (from google-cloud-bigtable>=2.32.0->google-adk==1.13.0->-r requirements.txt (line 15)) (0.14.2)\n",
      "Requirement already satisfied: sqlparse>=0.4.4 in c:\\users\\reube\\appdata\\local\\packages\\pythonsoftwarefoundation.python.3.11_qbz5n2kfra8p0\\localcache\\local-packages\\python311\\site-packages (from google-cloud-spanner<4.0.0,>=3.56.0->google-adk==1.13.0->-r requirements.txt (line 15)) (0.5.3)\n",
      "Requirement already satisfied: grpc-interceptor>=0.15.4 in c:\\users\\reube\\appdata\\local\\packages\\pythonsoftwarefoundation.python.3.11_qbz5n2kfra8p0\\localcache\\local-packages\\python311\\site-packages (from google-cloud-spanner<4.0.0,>=3.56.0->google-adk==1.13.0->-r requirements.txt (line 15)) (0.15.4)\n",
      "Requirement already satisfied: certifi in c:\\users\\reube\\appdata\\local\\packages\\pythonsoftwarefoundation.python.3.11_qbz5n2kfra8p0\\localcache\\local-packages\\python311\\site-packages (from httpx<1.0.0,>=0.28.1->google-genai==1.32.0->-r requirements.txt (line 13)) (2025.8.3)\n",
      "Requirement already satisfied: httpcore==1.* in c:\\users\\reube\\appdata\\local\\packages\\pythonsoftwarefoundation.python.3.11_qbz5n2kfra8p0\\localcache\\local-packages\\python311\\site-packages (from httpx<1.0.0,>=0.28.1->google-genai==1.32.0->-r requirements.txt (line 13)) (1.0.9)\n",
      "Requirement already satisfied: h11>=0.16 in c:\\users\\reube\\appdata\\local\\packages\\pythonsoftwarefoundation.python.3.11_qbz5n2kfra8p0\\localcache\\local-packages\\python311\\site-packages (from httpcore==1.*->httpx<1.0.0,>=0.28.1->google-genai==1.32.0->-r requirements.txt (line 13)) (0.16.0)\n",
      "Requirement already satisfied: httpx-sse>=0.4 in c:\\users\\reube\\appdata\\local\\packages\\pythonsoftwarefoundation.python.3.11_qbz5n2kfra8p0\\localcache\\local-packages\\python311\\site-packages (from mcp<2.0.0,>=1.8.0->google-adk==1.13.0->-r requirements.txt (line 15)) (0.4.1)\n",
      "Requirement already satisfied: jsonschema>=4.20.0 in c:\\users\\reube\\appdata\\local\\packages\\pythonsoftwarefoundation.python.3.11_qbz5n2kfra8p0\\localcache\\local-packages\\python311\\site-packages (from mcp<2.0.0,>=1.8.0->google-adk==1.13.0->-r requirements.txt (line 15)) (4.25.1)\n",
      "Requirement already satisfied: pydantic-settings>=2.5.2 in c:\\users\\reube\\appdata\\local\\packages\\pythonsoftwarefoundation.python.3.11_qbz5n2kfra8p0\\localcache\\local-packages\\python311\\site-packages (from mcp<2.0.0,>=1.8.0->google-adk==1.13.0->-r requirements.txt (line 15)) (2.10.1)\n",
      "Requirement already satisfied: python-multipart>=0.0.9 in c:\\users\\reube\\appdata\\local\\packages\\pythonsoftwarefoundation.python.3.11_qbz5n2kfra8p0\\localcache\\local-packages\\python311\\site-packages (from mcp<2.0.0,>=1.8.0->google-adk==1.13.0->-r requirements.txt (line 15)) (0.0.20)\n",
      "Requirement already satisfied: pywin32>=310 in c:\\users\\reube\\appdata\\local\\packages\\pythonsoftwarefoundation.python.3.11_qbz5n2kfra8p0\\localcache\\local-packages\\python311\\site-packages (from mcp<2.0.0,>=1.8.0->google-adk==1.13.0->-r requirements.txt (line 15)) (311)\n",
      "Requirement already satisfied: sse-starlette>=1.6.1 in c:\\users\\reube\\appdata\\local\\packages\\pythonsoftwarefoundation.python.3.11_qbz5n2kfra8p0\\localcache\\local-packages\\python311\\site-packages (from mcp<2.0.0,>=1.8.0->google-adk==1.13.0->-r requirements.txt (line 15)) (3.0.2)\n",
      "Requirement already satisfied: importlib-metadata<8.8.0,>=6.0 in c:\\users\\reube\\appdata\\local\\packages\\pythonsoftwarefoundation.python.3.11_qbz5n2kfra8p0\\localcache\\local-packages\\python311\\site-packages (from opentelemetry-api<2.0.0,>=1.31.0->google-adk==1.13.0->-r requirements.txt (line 15)) (8.7.0)\n",
      "Requirement already satisfied: opentelemetry-resourcedetector-gcp==1.*,>=1.5.0dev0 in c:\\users\\reube\\appdata\\local\\packages\\pythonsoftwarefoundation.python.3.11_qbz5n2kfra8p0\\localcache\\local-packages\\python311\\site-packages (from opentelemetry-exporter-gcp-trace<2.0.0,>=1.9.0->google-adk==1.13.0->-r requirements.txt (line 15)) (1.9.0a0)\n",
      "Requirement already satisfied: opentelemetry-semantic-conventions==0.57b0 in c:\\users\\reube\\appdata\\local\\packages\\pythonsoftwarefoundation.python.3.11_qbz5n2kfra8p0\\localcache\\local-packages\\python311\\site-packages (from opentelemetry-sdk<2.0.0,>=1.31.0->google-adk==1.13.0->-r requirements.txt (line 15)) (0.57b0)\n",
      "Requirement already satisfied: pyasn1<0.7.0,>=0.6.1 in c:\\users\\reube\\appdata\\local\\packages\\pythonsoftwarefoundation.python.3.11_qbz5n2kfra8p0\\localcache\\local-packages\\python311\\site-packages (from pyasn1-modules>=0.2.1->google-auth==2.40.3->-r requirements.txt (line 2)) (0.6.1)\n",
      "Requirement already satisfied: six>=1.5 in c:\\users\\reube\\appdata\\local\\packages\\pythonsoftwarefoundation.python.3.11_qbz5n2kfra8p0\\localcache\\local-packages\\python311\\site-packages (from python-dateutil<3.0.0,>=2.8.2->google-cloud-bigquery==3.36.0->-r requirements.txt (line 3)) (1.17.0)\n",
      "Requirement already satisfied: charset_normalizer<4,>=2 in c:\\users\\reube\\appdata\\local\\packages\\pythonsoftwarefoundation.python.3.11_qbz5n2kfra8p0\\localcache\\local-packages\\python311\\site-packages (from requests<3.0.0,>=2.21.0->google-cloud-bigquery==3.36.0->-r requirements.txt (line 3)) (3.4.3)\n",
      "Requirement already satisfied: urllib3<3,>=1.21.1 in c:\\users\\reube\\appdata\\local\\packages\\pythonsoftwarefoundation.python.3.11_qbz5n2kfra8p0\\localcache\\local-packages\\python311\\site-packages (from requests<3.0.0,>=2.21.0->google-cloud-bigquery==3.36.0->-r requirements.txt (line 3)) (2.5.0)\n",
      "Requirement already satisfied: numpy>=1.21 in c:\\users\\reube\\appdata\\local\\packages\\pythonsoftwarefoundation.python.3.11_qbz5n2kfra8p0\\localcache\\local-packages\\python311\\site-packages (from shapely<3.0.0->google-cloud-aiplatform>=1.74.0->-r requirements.txt (line 14)) (2.3.2)\n",
      "Requirement already satisfied: greenlet>=1 in c:\\users\\reube\\appdata\\local\\packages\\pythonsoftwarefoundation.python.3.11_qbz5n2kfra8p0\\localcache\\local-packages\\python311\\site-packages (from sqlalchemy<3.0.0,>=2.0->google-adk==1.13.0->-r requirements.txt (line 15)) (3.2.4)\n",
      "Requirement already satisfied: alembic in c:\\users\\reube\\appdata\\local\\packages\\pythonsoftwarefoundation.python.3.11_qbz5n2kfra8p0\\localcache\\local-packages\\python311\\site-packages (from sqlalchemy-spanner>=1.14.0->google-adk==1.13.0->-r requirements.txt (line 15)) (1.16.5)\n",
      "Requirement already satisfied: tzdata in c:\\users\\reube\\appdata\\local\\packages\\pythonsoftwarefoundation.python.3.11_qbz5n2kfra8p0\\localcache\\local-packages\\python311\\site-packages (from tzlocal<6.0,>=5.3->google-adk==1.13.0->-r requirements.txt (line 15)) (2025.2)\n",
      "Requirement already satisfied: google-cloud-appengine-logging<2.0.0,>=0.1.3 in c:\\users\\reube\\appdata\\local\\packages\\pythonsoftwarefoundation.python.3.11_qbz5n2kfra8p0\\localcache\\local-packages\\python311\\site-packages (from google-cloud-logging<4->google-cloud-aiplatform[agent-engines]<2.0.0,>=1.95.1->google-adk==1.13.0->-r requirements.txt (line 15)) (1.6.2)\n",
      "Requirement already satisfied: google-cloud-audit-log<1.0.0,>=0.3.1 in c:\\users\\reube\\appdata\\local\\packages\\pythonsoftwarefoundation.python.3.11_qbz5n2kfra8p0\\localcache\\local-packages\\python311\\site-packages (from google-cloud-logging<4->google-cloud-aiplatform[agent-engines]<2.0.0,>=1.95.1->google-adk==1.13.0->-r requirements.txt (line 15)) (0.3.2)\n",
      "Requirement already satisfied: pyparsing!=3.0.0,!=3.0.1,!=3.0.2,!=3.0.3,<4,>=2.4.2 in c:\\users\\reube\\appdata\\local\\packages\\pythonsoftwarefoundation.python.3.11_qbz5n2kfra8p0\\localcache\\local-packages\\python311\\site-packages (from httplib2<1.0.0,>=0.19.0->google-api-python-client<3.0.0,>=2.157.0->google-adk==1.13.0->-r requirements.txt (line 15)) (3.2.3)\n",
      "Requirement already satisfied: zipp>=3.20 in c:\\users\\reube\\appdata\\local\\packages\\pythonsoftwarefoundation.python.3.11_qbz5n2kfra8p0\\localcache\\local-packages\\python311\\site-packages (from importlib-metadata<8.8.0,>=6.0->opentelemetry-api<2.0.0,>=1.31.0->google-adk==1.13.0->-r requirements.txt (line 15)) (3.23.0)\n",
      "Requirement already satisfied: attrs>=22.2.0 in c:\\users\\reube\\appdata\\local\\packages\\pythonsoftwarefoundation.python.3.11_qbz5n2kfra8p0\\localcache\\local-packages\\python311\\site-packages (from jsonschema>=4.20.0->mcp<2.0.0,>=1.8.0->google-adk==1.13.0->-r requirements.txt (line 15)) (25.3.0)\n",
      "Requirement already satisfied: jsonschema-specifications>=2023.03.6 in c:\\users\\reube\\appdata\\local\\packages\\pythonsoftwarefoundation.python.3.11_qbz5n2kfra8p0\\localcache\\local-packages\\python311\\site-packages (from jsonschema>=4.20.0->mcp<2.0.0,>=1.8.0->google-adk==1.13.0->-r requirements.txt (line 15)) (2025.4.1)\n",
      "Requirement already satisfied: referencing>=0.28.4 in c:\\users\\reube\\appdata\\local\\packages\\pythonsoftwarefoundation.python.3.11_qbz5n2kfra8p0\\localcache\\local-packages\\python311\\site-packages (from jsonschema>=4.20.0->mcp<2.0.0,>=1.8.0->google-adk==1.13.0->-r requirements.txt (line 15)) (0.36.2)\n",
      "Requirement already satisfied: rpds-py>=0.7.1 in c:\\users\\reube\\appdata\\local\\packages\\pythonsoftwarefoundation.python.3.11_qbz5n2kfra8p0\\localcache\\local-packages\\python311\\site-packages (from jsonschema>=4.20.0->mcp<2.0.0,>=1.8.0->google-adk==1.13.0->-r requirements.txt (line 15)) (0.27.1)\n",
      "Requirement already satisfied: Mako in c:\\users\\reube\\appdata\\local\\packages\\pythonsoftwarefoundation.python.3.11_qbz5n2kfra8p0\\localcache\\local-packages\\python311\\site-packages (from alembic->sqlalchemy-spanner>=1.14.0->google-adk==1.13.0->-r requirements.txt (line 15)) (1.3.10)\n",
      "Requirement already satisfied: cffi>=1.14 in c:\\users\\reube\\appdata\\local\\packages\\pythonsoftwarefoundation.python.3.11_qbz5n2kfra8p0\\localcache\\local-packages\\python311\\site-packages (from cryptography->authlib<2.0.0,>=1.5.1->google-adk==1.13.0->-r requirements.txt (line 15)) (1.17.1)\n",
      "Requirement already satisfied: pycparser in c:\\users\\reube\\appdata\\local\\packages\\pythonsoftwarefoundation.python.3.11_qbz5n2kfra8p0\\localcache\\local-packages\\python311\\site-packages (from cffi>=1.14->cryptography->authlib<2.0.0,>=1.5.1->google-adk==1.13.0->-r requirements.txt (line 15)) (2.22)\n",
      "Requirement already satisfied: MarkupSafe>=0.9.2 in c:\\users\\reube\\appdata\\local\\packages\\pythonsoftwarefoundation.python.3.11_qbz5n2kfra8p0\\localcache\\local-packages\\python311\\site-packages (from Mako->alembic->sqlalchemy-spanner>=1.14.0->google-adk==1.13.0->-r requirements.txt (line 15)) (3.0.2)\n"
     ]
    },
    {
     "name": "stderr",
     "output_type": "stream",
     "text": [
      "\n",
      "[notice] A new release of pip is available: 24.0 -> 25.2\n",
      "[notice] To update, run: C:\\Users\\reube\\AppData\\Local\\Microsoft\\WindowsApps\\PythonSoftwareFoundation.Python.3.11_qbz5n2kfra8p0\\python.exe -m pip install --upgrade pip\n"
     ]
    }
   ],
   "source": [
    "# ✅ 1. Install requirements (optional if already installed)\n",
    "!pip install -r requirements.txt"
   ]
  },
  {
   "cell_type": "code",
   "execution_count": 2,
   "id": "745a3938",
   "metadata": {},
   "outputs": [
    {
     "name": "stdout",
     "output_type": "stream",
     "text": [
      "✅ Environment OK\n",
      "PROJECT_ID = abstract-arc-469501-e2\n",
      "DATASET_NAME = bigquery_comp_dataset\n",
      "GCS_BUCKET = geomarket-insight-ingest\n",
      "SEARCH_LOCATION = global\n",
      "GOOGLE_CLOUD_LOCATION = us-central1\n",
      "GEMINI_MODEL = gemini-2.5-flash\n",
      "ADK_LOCATION = us-central1\n",
      "ONTOLOGY_FILE = shared/schemas/ontology/categories.yaml\n"
     ]
    }
   ],
   "source": [
    "# ✅ 2. Check environment values\n",
    "from cli import env_check\n",
    "env_check.main()"
   ]
  },
  {
   "cell_type": "code",
   "execution_count": 3,
   "id": "c24aca2b",
   "metadata": {},
   "outputs": [
    {
     "name": "stdout",
     "output_type": "stream",
     "text": [
      "✅ Dataset ready: abstract-arc-469501-e2.bigquery_comp_dataset [us-central1]\n",
      "✅ poi_entities created\n",
      "✅ poi_entities search view created\n",
      "✅ area_indicators created\n",
      "✅ area_boundaries created\n",
      "✅ org_locations created\n",
      "✅ org_locations search view created\n"
     ]
    }
   ],
   "source": [
    "# ✅ 3. Run BigQuery setup (dataset + tables)\n",
    "from data.tasks.bq_materialize import main \n",
    "main()\n"
   ]
  },
  {
   "cell_type": "code",
   "execution_count": 3,
   "id": "2fb40cbe",
   "metadata": {},
   "outputs": [
    {
     "name": "stdout",
     "output_type": "stream",
     "text": [
      "\n",
      "=== Infra for shared/schemas/datastore/org_schema.json ===\n",
      "→ Ensuring datastore org_location\n",
      "   projects/597564348526/locations/global/collections/default_collection/dataStores/org_location\n",
      "→ Upserting schema default_schema on datastore org_location\n",
      "   schema upserted: default_schema\n",
      "\n",
      "=== Infra for shared/schemas/datastore/poi_schema.json ===\n",
      "→ Ensuring datastore poi_location\n",
      "   projects/597564348526/locations/global/collections/default_collection/dataStores/poi_location\n",
      "→ Upserting schema default_schema on datastore poi_location\n",
      "   schema upserted: default_schema\n",
      "\n",
      "✅ setup_search_infra completed.\n"
     ]
    }
   ],
   "source": [
    "from data.publish.setup_search_infra import main\n",
    "main()"
   ]
  },
  {
   "cell_type": "code",
   "execution_count": 4,
   "id": "257a2edc",
   "metadata": {},
   "outputs": [
    {
     "name": "stdout",
     "output_type": "stream",
     "text": [
      "✅ Bucket already exists: geomarket-insight-ingest\n",
      "✅ Bucket ready: gs://geomarket-insight-ingest\n",
      "\n",
      "=== Ingest for shared/schemas/datastore/org_schema.json ===\n"
     ]
    },
    {
     "ename": "RuntimeError",
     "evalue": "[export_table_to_jsonl] Failed export\n  table_id      = abstract-arc-469501-e2.bigquery_comp_dataset.org_locations_search\n  destination   = gs://geomarket-insight-ingest/search_exports/org_locations_search.jsonl\n  location      = us-central1\n  user_agent    = 'geomarket-insight'\nOriginal error: NotFound: 404 POST https://bigquery.googleapis.com/bigquery/v2/projects/abstract-arc-469501-e2/jobs?prettyPrint=false: Not found: Dataset abstract-arc-469501-e2:bigquery_comp_dataset",
     "output_type": "error",
     "traceback": [
      "\u001b[31m---------------------------------------------------------------------------\u001b[39m",
      "\u001b[31mNotFound\u001b[39m                                  Traceback (most recent call last)",
      "\u001b[36mFile \u001b[39m\u001b[32m~\\OneDrive\\Desktop\\Kaggle\\geomarket-insight\\data\\tasks\\export_to_gcs.py:50\u001b[39m, in \u001b[36mexport_table_to_jsonl\u001b[39m\u001b[34m(project_id, dataset, table, gcs_bucket, gcs_path, user_agent, location)\u001b[39m\n\u001b[32m     49\u001b[39m \u001b[38;5;28;01mtry\u001b[39;00m:\n\u001b[32m---> \u001b[39m\u001b[32m50\u001b[39m     extract_job = \u001b[43mclient\u001b[49m\u001b[43m.\u001b[49m\u001b[43mextract_table\u001b[49m\u001b[43m(\u001b[49m\n\u001b[32m     51\u001b[39m \u001b[43m        \u001b[49m\u001b[43mtable_id\u001b[49m\u001b[43m,\u001b[49m\n\u001b[32m     52\u001b[39m \u001b[43m        \u001b[49m\u001b[43mdestination_uri\u001b[49m\u001b[43m,\u001b[49m\n\u001b[32m     53\u001b[39m \u001b[43m        \u001b[49m\u001b[43mlocation\u001b[49m\u001b[43m=\u001b[49m\u001b[43mlocation\u001b[49m\u001b[43m,\u001b[49m\n\u001b[32m     54\u001b[39m \u001b[43m        \u001b[49m\u001b[43mjob_config\u001b[49m\u001b[43m=\u001b[49m\u001b[43mjob_config\u001b[49m\u001b[43m,\u001b[49m\n\u001b[32m     55\u001b[39m \u001b[43m    \u001b[49m\u001b[43m)\u001b[49m\n\u001b[32m     56\u001b[39m     extract_job.result()\n",
      "\u001b[36mFile \u001b[39m\u001b[32m~\\AppData\\Local\\Packages\\PythonSoftwareFoundation.Python.3.11_qbz5n2kfra8p0\\LocalCache\\local-packages\\Python311\\site-packages\\google\\cloud\\bigquery\\client.py:3456\u001b[39m, in \u001b[36mClient.extract_table\u001b[39m\u001b[34m(self, source, destination_uris, job_id, job_id_prefix, location, project, job_config, retry, timeout, source_type)\u001b[39m\n\u001b[32m   3453\u001b[39m extract_job = job.ExtractJob(\n\u001b[32m   3454\u001b[39m     job_ref, source, destination_uris, client=\u001b[38;5;28mself\u001b[39m, job_config=job_config\n\u001b[32m   3455\u001b[39m )\n\u001b[32m-> \u001b[39m\u001b[32m3456\u001b[39m \u001b[43mextract_job\u001b[49m\u001b[43m.\u001b[49m\u001b[43m_begin\u001b[49m\u001b[43m(\u001b[49m\u001b[43mretry\u001b[49m\u001b[43m=\u001b[49m\u001b[43mretry\u001b[49m\u001b[43m,\u001b[49m\u001b[43m \u001b[49m\u001b[43mtimeout\u001b[49m\u001b[43m=\u001b[49m\u001b[43mtimeout\u001b[49m\u001b[43m)\u001b[49m\n\u001b[32m   3458\u001b[39m \u001b[38;5;28;01mreturn\u001b[39;00m extract_job\n",
      "\u001b[36mFile \u001b[39m\u001b[32m~\\AppData\\Local\\Packages\\PythonSoftwareFoundation.Python.3.11_qbz5n2kfra8p0\\LocalCache\\local-packages\\Python311\\site-packages\\google\\cloud\\bigquery\\job\\base.py:778\u001b[39m, in \u001b[36m_AsyncJob._begin\u001b[39m\u001b[34m(self, client, retry, timeout)\u001b[39m\n\u001b[32m    777\u001b[39m span_attributes = {\u001b[33m\"\u001b[39m\u001b[33mpath\u001b[39m\u001b[33m\"\u001b[39m: path}\n\u001b[32m--> \u001b[39m\u001b[32m778\u001b[39m api_response = \u001b[43mclient\u001b[49m\u001b[43m.\u001b[49m\u001b[43m_call_api\u001b[49m\u001b[43m(\u001b[49m\n\u001b[32m    779\u001b[39m \u001b[43m    \u001b[49m\u001b[43mretry\u001b[49m\u001b[43m,\u001b[49m\n\u001b[32m    780\u001b[39m \u001b[43m    \u001b[49m\u001b[43mspan_name\u001b[49m\u001b[43m=\u001b[49m\u001b[33;43m\"\u001b[39;49m\u001b[33;43mBigQuery.job.begin\u001b[39;49m\u001b[33;43m\"\u001b[39;49m\u001b[43m,\u001b[49m\n\u001b[32m    781\u001b[39m \u001b[43m    \u001b[49m\u001b[43mspan_attributes\u001b[49m\u001b[43m=\u001b[49m\u001b[43mspan_attributes\u001b[49m\u001b[43m,\u001b[49m\n\u001b[32m    782\u001b[39m \u001b[43m    \u001b[49m\u001b[43mjob_ref\u001b[49m\u001b[43m=\u001b[49m\u001b[38;5;28;43mself\u001b[39;49m\u001b[43m,\u001b[49m\n\u001b[32m    783\u001b[39m \u001b[43m    \u001b[49m\u001b[43mmethod\u001b[49m\u001b[43m=\u001b[49m\u001b[33;43m\"\u001b[39;49m\u001b[33;43mPOST\u001b[39;49m\u001b[33;43m\"\u001b[39;49m\u001b[43m,\u001b[49m\n\u001b[32m    784\u001b[39m \u001b[43m    \u001b[49m\u001b[43mpath\u001b[49m\u001b[43m=\u001b[49m\u001b[43mpath\u001b[49m\u001b[43m,\u001b[49m\n\u001b[32m    785\u001b[39m \u001b[43m    \u001b[49m\u001b[43mdata\u001b[49m\u001b[43m=\u001b[49m\u001b[38;5;28;43mself\u001b[39;49m\u001b[43m.\u001b[49m\u001b[43mto_api_repr\u001b[49m\u001b[43m(\u001b[49m\u001b[43m)\u001b[49m\u001b[43m,\u001b[49m\n\u001b[32m    786\u001b[39m \u001b[43m    \u001b[49m\u001b[43mtimeout\u001b[49m\u001b[43m=\u001b[49m\u001b[43mtimeout\u001b[49m\u001b[43m,\u001b[49m\n\u001b[32m    787\u001b[39m \u001b[43m\u001b[49m\u001b[43m)\u001b[49m\n\u001b[32m    788\u001b[39m \u001b[38;5;28mself\u001b[39m._set_properties(api_response)\n",
      "\u001b[36mFile \u001b[39m\u001b[32m~\\AppData\\Local\\Packages\\PythonSoftwareFoundation.Python.3.11_qbz5n2kfra8p0\\LocalCache\\local-packages\\Python311\\site-packages\\google\\cloud\\bigquery\\client.py:861\u001b[39m, in \u001b[36mClient._call_api\u001b[39m\u001b[34m(self, retry, span_name, span_attributes, job_ref, headers, **kwargs)\u001b[39m\n\u001b[32m    858\u001b[39m     \u001b[38;5;28;01mwith\u001b[39;00m create_span(\n\u001b[32m    859\u001b[39m         name=span_name, attributes=span_attributes, client=\u001b[38;5;28mself\u001b[39m, job_ref=job_ref\n\u001b[32m    860\u001b[39m     ):\n\u001b[32m--> \u001b[39m\u001b[32m861\u001b[39m         \u001b[38;5;28;01mreturn\u001b[39;00m \u001b[43mcall\u001b[49m\u001b[43m(\u001b[49m\u001b[43m)\u001b[49m\n\u001b[32m    863\u001b[39m \u001b[38;5;28;01mreturn\u001b[39;00m call()\n",
      "\u001b[36mFile \u001b[39m\u001b[32m~\\AppData\\Local\\Packages\\PythonSoftwareFoundation.Python.3.11_qbz5n2kfra8p0\\LocalCache\\local-packages\\Python311\\site-packages\\google\\api_core\\retry\\retry_unary.py:294\u001b[39m, in \u001b[36mRetry.__call__.<locals>.retry_wrapped_func\u001b[39m\u001b[34m(*args, **kwargs)\u001b[39m\n\u001b[32m    291\u001b[39m sleep_generator = exponential_sleep_generator(\n\u001b[32m    292\u001b[39m     \u001b[38;5;28mself\u001b[39m._initial, \u001b[38;5;28mself\u001b[39m._maximum, multiplier=\u001b[38;5;28mself\u001b[39m._multiplier\n\u001b[32m    293\u001b[39m )\n\u001b[32m--> \u001b[39m\u001b[32m294\u001b[39m \u001b[38;5;28;01mreturn\u001b[39;00m \u001b[43mretry_target\u001b[49m\u001b[43m(\u001b[49m\n\u001b[32m    295\u001b[39m \u001b[43m    \u001b[49m\u001b[43mtarget\u001b[49m\u001b[43m,\u001b[49m\n\u001b[32m    296\u001b[39m \u001b[43m    \u001b[49m\u001b[38;5;28;43mself\u001b[39;49m\u001b[43m.\u001b[49m\u001b[43m_predicate\u001b[49m\u001b[43m,\u001b[49m\n\u001b[32m    297\u001b[39m \u001b[43m    \u001b[49m\u001b[43msleep_generator\u001b[49m\u001b[43m,\u001b[49m\n\u001b[32m    298\u001b[39m \u001b[43m    \u001b[49m\u001b[43mtimeout\u001b[49m\u001b[43m=\u001b[49m\u001b[38;5;28;43mself\u001b[39;49m\u001b[43m.\u001b[49m\u001b[43m_timeout\u001b[49m\u001b[43m,\u001b[49m\n\u001b[32m    299\u001b[39m \u001b[43m    \u001b[49m\u001b[43mon_error\u001b[49m\u001b[43m=\u001b[49m\u001b[43mon_error\u001b[49m\u001b[43m,\u001b[49m\n\u001b[32m    300\u001b[39m \u001b[43m\u001b[49m\u001b[43m)\u001b[49m\n",
      "\u001b[36mFile \u001b[39m\u001b[32m~\\AppData\\Local\\Packages\\PythonSoftwareFoundation.Python.3.11_qbz5n2kfra8p0\\LocalCache\\local-packages\\Python311\\site-packages\\google\\api_core\\retry\\retry_unary.py:156\u001b[39m, in \u001b[36mretry_target\u001b[39m\u001b[34m(target, predicate, sleep_generator, timeout, on_error, exception_factory, **kwargs)\u001b[39m\n\u001b[32m    154\u001b[39m \u001b[38;5;28;01mexcept\u001b[39;00m \u001b[38;5;167;01mException\u001b[39;00m \u001b[38;5;28;01mas\u001b[39;00m exc:\n\u001b[32m    155\u001b[39m     \u001b[38;5;66;03m# defer to shared logic for handling errors\u001b[39;00m\n\u001b[32m--> \u001b[39m\u001b[32m156\u001b[39m     next_sleep = \u001b[43m_retry_error_helper\u001b[49m\u001b[43m(\u001b[49m\n\u001b[32m    157\u001b[39m \u001b[43m        \u001b[49m\u001b[43mexc\u001b[49m\u001b[43m,\u001b[49m\n\u001b[32m    158\u001b[39m \u001b[43m        \u001b[49m\u001b[43mdeadline\u001b[49m\u001b[43m,\u001b[49m\n\u001b[32m    159\u001b[39m \u001b[43m        \u001b[49m\u001b[43msleep_iter\u001b[49m\u001b[43m,\u001b[49m\n\u001b[32m    160\u001b[39m \u001b[43m        \u001b[49m\u001b[43merror_list\u001b[49m\u001b[43m,\u001b[49m\n\u001b[32m    161\u001b[39m \u001b[43m        \u001b[49m\u001b[43mpredicate\u001b[49m\u001b[43m,\u001b[49m\n\u001b[32m    162\u001b[39m \u001b[43m        \u001b[49m\u001b[43mon_error\u001b[49m\u001b[43m,\u001b[49m\n\u001b[32m    163\u001b[39m \u001b[43m        \u001b[49m\u001b[43mexception_factory\u001b[49m\u001b[43m,\u001b[49m\n\u001b[32m    164\u001b[39m \u001b[43m        \u001b[49m\u001b[43mtimeout\u001b[49m\u001b[43m,\u001b[49m\n\u001b[32m    165\u001b[39m \u001b[43m    \u001b[49m\u001b[43m)\u001b[49m\n\u001b[32m    166\u001b[39m     \u001b[38;5;66;03m# if exception not raised, sleep before next attempt\u001b[39;00m\n",
      "\u001b[36mFile \u001b[39m\u001b[32m~\\AppData\\Local\\Packages\\PythonSoftwareFoundation.Python.3.11_qbz5n2kfra8p0\\LocalCache\\local-packages\\Python311\\site-packages\\google\\api_core\\retry\\retry_base.py:214\u001b[39m, in \u001b[36m_retry_error_helper\u001b[39m\u001b[34m(exc, deadline, sleep_iterator, error_list, predicate_fn, on_error_fn, exc_factory_fn, original_timeout)\u001b[39m\n\u001b[32m    209\u001b[39m     final_exc, source_exc = exc_factory_fn(\n\u001b[32m    210\u001b[39m         error_list,\n\u001b[32m    211\u001b[39m         RetryFailureReason.NON_RETRYABLE_ERROR,\n\u001b[32m    212\u001b[39m         original_timeout,\n\u001b[32m    213\u001b[39m     )\n\u001b[32m--> \u001b[39m\u001b[32m214\u001b[39m     \u001b[38;5;28;01mraise\u001b[39;00m final_exc \u001b[38;5;28;01mfrom\u001b[39;00m\u001b[38;5;250m \u001b[39m\u001b[34;01msource_exc\u001b[39;00m\n\u001b[32m    215\u001b[39m \u001b[38;5;28;01mif\u001b[39;00m on_error_fn \u001b[38;5;129;01mis\u001b[39;00m \u001b[38;5;129;01mnot\u001b[39;00m \u001b[38;5;28;01mNone\u001b[39;00m:\n",
      "\u001b[36mFile \u001b[39m\u001b[32m~\\AppData\\Local\\Packages\\PythonSoftwareFoundation.Python.3.11_qbz5n2kfra8p0\\LocalCache\\local-packages\\Python311\\site-packages\\google\\api_core\\retry\\retry_unary.py:147\u001b[39m, in \u001b[36mretry_target\u001b[39m\u001b[34m(target, predicate, sleep_generator, timeout, on_error, exception_factory, **kwargs)\u001b[39m\n\u001b[32m    146\u001b[39m \u001b[38;5;28;01mtry\u001b[39;00m:\n\u001b[32m--> \u001b[39m\u001b[32m147\u001b[39m     result = \u001b[43mtarget\u001b[49m\u001b[43m(\u001b[49m\u001b[43m)\u001b[49m\n\u001b[32m    148\u001b[39m     \u001b[38;5;28;01mif\u001b[39;00m inspect.isawaitable(result):\n",
      "\u001b[36mFile \u001b[39m\u001b[32m~\\AppData\\Local\\Packages\\PythonSoftwareFoundation.Python.3.11_qbz5n2kfra8p0\\LocalCache\\local-packages\\Python311\\site-packages\\google\\cloud\\_http\\__init__.py:494\u001b[39m, in \u001b[36mJSONConnection.api_request\u001b[39m\u001b[34m(self, method, path, query_params, data, content_type, headers, api_base_url, api_version, expect_json, _target_object, timeout, extra_api_info)\u001b[39m\n\u001b[32m    493\u001b[39m \u001b[38;5;28;01mif\u001b[39;00m \u001b[38;5;129;01mnot\u001b[39;00m \u001b[32m200\u001b[39m <= response.status_code < \u001b[32m300\u001b[39m:\n\u001b[32m--> \u001b[39m\u001b[32m494\u001b[39m     \u001b[38;5;28;01mraise\u001b[39;00m exceptions.from_http_response(response)\n\u001b[32m    496\u001b[39m \u001b[38;5;28;01mif\u001b[39;00m expect_json \u001b[38;5;129;01mand\u001b[39;00m response.content:\n",
      "\u001b[31mNotFound\u001b[39m: 404 POST https://bigquery.googleapis.com/bigquery/v2/projects/abstract-arc-469501-e2/jobs?prettyPrint=false: Not found: Dataset abstract-arc-469501-e2:bigquery_comp_dataset",
      "\nThe above exception was the direct cause of the following exception:\n",
      "\u001b[31mRuntimeError\u001b[39m                              Traceback (most recent call last)",
      "\u001b[36mCell\u001b[39m\u001b[36m \u001b[39m\u001b[32mIn[4]\u001b[39m\u001b[32m, line 2\u001b[39m\n\u001b[32m      1\u001b[39m \u001b[38;5;28;01mfrom\u001b[39;00m\u001b[38;5;250m \u001b[39m\u001b[34;01mdata\u001b[39;00m\u001b[34;01m.\u001b[39;00m\u001b[34;01mpublish\u001b[39;00m\u001b[34;01m.\u001b[39;00m\u001b[34;01msetup_search_ingest\u001b[39;00m\u001b[38;5;250m \u001b[39m\u001b[38;5;28;01mimport\u001b[39;00m main\n\u001b[32m----> \u001b[39m\u001b[32m2\u001b[39m \u001b[43mmain\u001b[49m\u001b[43m(\u001b[49m\u001b[43m)\u001b[49m\n",
      "\u001b[36mFile \u001b[39m\u001b[32m~\\OneDrive\\Desktop\\Kaggle\\geomarket-insight\\data\\publish\\setup_search_ingest.py:101\u001b[39m, in \u001b[36mmain\u001b[39m\u001b[34m()\u001b[39m\n\u001b[32m     98\u001b[39m \u001b[38;5;28mprint\u001b[39m(\u001b[33mf\u001b[39m\u001b[33m\"\u001b[39m\u001b[38;5;130;01m\\n\u001b[39;00m\u001b[33m=== Ingest for \u001b[39m\u001b[38;5;132;01m{\u001b[39;00mpath\u001b[38;5;132;01m}\u001b[39;00m\u001b[33m ===\u001b[39m\u001b[33m\"\u001b[39m)\n\u001b[32m    100\u001b[39m \u001b[38;5;66;03m# a) Export table → JSONL (your existing exporter that writes JSONL rows)\u001b[39;00m\n\u001b[32m--> \u001b[39m\u001b[32m101\u001b[39m \u001b[43mexport_table_to_jsonl\u001b[49m\u001b[43m(\u001b[49m\n\u001b[32m    102\u001b[39m \u001b[43m    \u001b[49m\u001b[43mproject_id\u001b[49m\u001b[43m=\u001b[49m\u001b[43mcfg\u001b[49m\u001b[43m.\u001b[49m\u001b[43mPROJECT_ID\u001b[49m\u001b[43m,\u001b[49m\n\u001b[32m    103\u001b[39m \u001b[43m    \u001b[49m\u001b[43mdataset\u001b[49m\u001b[43m=\u001b[49m\u001b[43mcfg\u001b[49m\u001b[43m.\u001b[49m\u001b[43mDATASET_NAME\u001b[49m\u001b[43m,\u001b[49m\n\u001b[32m    104\u001b[39m \u001b[43m    \u001b[49m\u001b[43mtable\u001b[49m\u001b[43m=\u001b[49m\u001b[43mbq_table\u001b[49m\u001b[43m,\u001b[49m\n\u001b[32m    105\u001b[39m \u001b[43m    \u001b[49m\u001b[43mgcs_bucket\u001b[49m\u001b[43m=\u001b[49m\u001b[43mcfg\u001b[49m\u001b[43m.\u001b[49m\u001b[43mGCS_BUCKET\u001b[49m\u001b[43m,\u001b[49m\n\u001b[32m    106\u001b[39m \u001b[43m    \u001b[49m\u001b[43mgcs_path\u001b[49m\u001b[43m=\u001b[49m\u001b[43mgcs_path_cfg\u001b[49m\u001b[43m,\u001b[49m\u001b[43m  \u001b[49m\u001b[38;5;66;43;03m# relative path from schema\u001b[39;49;00m\n\u001b[32m    107\u001b[39m \u001b[43m    \u001b[49m\u001b[43muser_agent\u001b[49m\u001b[43m=\u001b[49m\u001b[43mcfg\u001b[49m\u001b[43m.\u001b[49m\u001b[43mUSER_AGENT\u001b[49m\u001b[43m \u001b[49m\u001b[38;5;129;43;01mor\u001b[39;49;00m\u001b[43m \u001b[49m\u001b[33;43m\"\u001b[39;49m\u001b[33;43mgeomarket-insight\u001b[39;49m\u001b[33;43m\"\u001b[39;49m\u001b[43m,\u001b[49m\n\u001b[32m    108\u001b[39m \u001b[43m    \u001b[49m\u001b[43mlocation\u001b[49m\u001b[43m=\u001b[49m\u001b[43mcfg\u001b[49m\u001b[43m.\u001b[49m\u001b[43mGOOGLE_CLOUD_LOCATION\u001b[49m\u001b[43m,\u001b[49m\n\u001b[32m    109\u001b[39m \u001b[43m\u001b[49m\u001b[43m)\u001b[49m\n\u001b[32m    110\u001b[39m \u001b[38;5;28mprint\u001b[39m(\u001b[33mf\u001b[39m\u001b[33m\"\u001b[39m\u001b[33m✅ Exported \u001b[39m\u001b[38;5;132;01m{\u001b[39;00mbq_table\u001b[38;5;132;01m}\u001b[39;00m\u001b[33m to gs://\u001b[39m\u001b[38;5;132;01m{\u001b[39;00mcfg.GCS_BUCKET\u001b[38;5;132;01m}\u001b[39;00m\u001b[33m/\u001b[39m\u001b[38;5;132;01m{\u001b[39;00mgcs_path_cfg\u001b[38;5;132;01m}\u001b[39;00m\u001b[33m\"\u001b[39m)\n\u001b[32m    112\u001b[39m \u001b[38;5;66;03m# b) Ensure engine exists and is linked to the datastore (safe no-op if already linked)\u001b[39;00m\n",
      "\u001b[36mFile \u001b[39m\u001b[32m~\\OneDrive\\Desktop\\Kaggle\\geomarket-insight\\data\\tasks\\export_to_gcs.py:59\u001b[39m, in \u001b[36mexport_table_to_jsonl\u001b[39m\u001b[34m(project_id, dataset, table, gcs_bucket, gcs_path, user_agent, location)\u001b[39m\n\u001b[32m     56\u001b[39m     extract_job.result()\n\u001b[32m     57\u001b[39m \u001b[38;5;28;01mexcept\u001b[39;00m \u001b[38;5;167;01mException\u001b[39;00m \u001b[38;5;28;01mas\u001b[39;00m e:\n\u001b[32m     58\u001b[39m     \u001b[38;5;66;03m# Add rich context so errors aren't cryptic\u001b[39;00m\n\u001b[32m---> \u001b[39m\u001b[32m59\u001b[39m     \u001b[38;5;28;01mraise\u001b[39;00m \u001b[38;5;167;01mRuntimeError\u001b[39;00m(\n\u001b[32m     60\u001b[39m         \u001b[33mf\u001b[39m\u001b[33m\"\u001b[39m\u001b[33m[export_table_to_jsonl] Failed export\u001b[39m\u001b[38;5;130;01m\\n\u001b[39;00m\u001b[33m\"\u001b[39m\n\u001b[32m     61\u001b[39m         \u001b[33mf\u001b[39m\u001b[33m\"\u001b[39m\u001b[33m  table_id      = \u001b[39m\u001b[38;5;132;01m{\u001b[39;00mtable_id\u001b[38;5;132;01m}\u001b[39;00m\u001b[38;5;130;01m\\n\u001b[39;00m\u001b[33m\"\u001b[39m\n\u001b[32m     62\u001b[39m         \u001b[33mf\u001b[39m\u001b[33m\"\u001b[39m\u001b[33m  destination   = \u001b[39m\u001b[38;5;132;01m{\u001b[39;00mdestination_uri\u001b[38;5;132;01m}\u001b[39;00m\u001b[38;5;130;01m\\n\u001b[39;00m\u001b[33m\"\u001b[39m\n\u001b[32m     63\u001b[39m         \u001b[33mf\u001b[39m\u001b[33m\"\u001b[39m\u001b[33m  location      = \u001b[39m\u001b[38;5;132;01m{\u001b[39;00mlocation\u001b[38;5;132;01m}\u001b[39;00m\u001b[38;5;130;01m\\n\u001b[39;00m\u001b[33m\"\u001b[39m\n\u001b[32m     64\u001b[39m         \u001b[33mf\u001b[39m\u001b[33m\"\u001b[39m\u001b[33m  user_agent    = \u001b[39m\u001b[38;5;132;01m{\u001b[39;00muser_agent\u001b[38;5;132;01m!r}\u001b[39;00m\u001b[38;5;130;01m\\n\u001b[39;00m\u001b[33m\"\u001b[39m\n\u001b[32m     65\u001b[39m         \u001b[33mf\u001b[39m\u001b[33m\"\u001b[39m\u001b[33mOriginal error: \u001b[39m\u001b[38;5;132;01m{\u001b[39;00m\u001b[38;5;28mtype\u001b[39m(e).\u001b[34m__name__\u001b[39m\u001b[38;5;132;01m}\u001b[39;00m\u001b[33m: \u001b[39m\u001b[38;5;132;01m{\u001b[39;00me\u001b[38;5;132;01m}\u001b[39;00m\u001b[33m\"\u001b[39m\n\u001b[32m     66\u001b[39m     ) \u001b[38;5;28;01mfrom\u001b[39;00m\u001b[38;5;250m \u001b[39m\u001b[34;01me\u001b[39;00m\n\u001b[32m     68\u001b[39m \u001b[38;5;28mprint\u001b[39m(\u001b[33mf\u001b[39m\u001b[33m\"\u001b[39m\u001b[33m✅ Exported \u001b[39m\u001b[38;5;132;01m{\u001b[39;00mtable_id\u001b[38;5;132;01m}\u001b[39;00m\u001b[33m → \u001b[39m\u001b[38;5;132;01m{\u001b[39;00mdestination_uri\u001b[38;5;132;01m}\u001b[39;00m\u001b[33m\"\u001b[39m)\n",
      "\u001b[31mRuntimeError\u001b[39m: [export_table_to_jsonl] Failed export\n  table_id      = abstract-arc-469501-e2.bigquery_comp_dataset.org_locations_search\n  destination   = gs://geomarket-insight-ingest/search_exports/org_locations_search.jsonl\n  location      = us-central1\n  user_agent    = 'geomarket-insight'\nOriginal error: NotFound: 404 POST https://bigquery.googleapis.com/bigquery/v2/projects/abstract-arc-469501-e2/jobs?prettyPrint=false: Not found: Dataset abstract-arc-469501-e2:bigquery_comp_dataset"
     ]
    }
   ],
   "source": [
    "from data.publish.setup_search_ingest import main\n",
    "main()"
   ]
  }
 ],
 "metadata": {
  "kernelspec": {
   "display_name": "Python 3",
   "language": "python",
   "name": "python3"
  },
  "language_info": {
   "codemirror_mode": {
    "name": "ipython",
    "version": 3
   },
   "file_extension": ".py",
   "mimetype": "text/x-python",
   "name": "python",
   "nbconvert_exporter": "python",
   "pygments_lexer": "ipython3",
   "version": "3.11.9"
  }
 },
 "nbformat": 4,
 "nbformat_minor": 5
}
