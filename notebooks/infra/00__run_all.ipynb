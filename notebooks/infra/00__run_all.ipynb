{
 "cells": [
  {
   "cell_type": "markdown",
   "id": "f6bbff9c",
   "metadata": {},
   "source": [
    "# 🔧 Run All Setup Tasks\n",
    "\n",
    "This notebook automates the common steps:\n",
    "1. Install dependencies (if running in fresh env)\n",
    "2. Check `.env`\n",
    "3. Run BigQuery setup\n",
    "4. Run Vertex AI Search export/setup\n",
    "5. Run pytest suite\n",
    "\n",
    "⚠️ Requires: `.env` populated and `gcloud auth application-default login` done once."
   ]
  },
  {
   "cell_type": "code",
   "execution_count": null,
   "id": "297aacb3",
   "metadata": {},
   "outputs": [],
   "source": [
    "# --- Make repo imports (cli/, backend/, tools/) work inside this notebook ---\n",
    "import os, sys, pathlib\n",
    "\n",
    "# Find the repo root by walking up until we see requirements.txt\n",
    "here = pathlib.Path().resolve()\n",
    "candidates = [here, *here.parents]\n",
    "root = None\n",
    "for p in candidates:\n",
    "    if (p / \"requirements.txt\").exists() and (p / \"backend\").exists():\n",
    "        root = p\n",
    "        break\n",
    "\n",
    "if root is None:\n",
    "    raise RuntimeError(\"Could not locate repo root (missing requirements.txt). Move this notebook into the repo or update the search logic.\")\n",
    "\n",
    "# 1) Put repo root at the front of sys.path so `import cli` works\n",
    "root_str = str(root)\n",
    "if root_str not in sys.path:\n",
    "    sys.path.insert(0, root_str)\n",
    "\n",
    "# 2) Switch working dir to repo root so relative paths (e.g., tests/, notebooks/, etc.) work\n",
    "os.chdir(root_str)\n",
    "\n",
    "print(\"Repo root:\", root_str)\n",
    "print(\"Python exe:\", sys.executable)\n",
    "print(\"sys.path[0]:\", sys.path[0])\n"
   ]
  },
  {
   "cell_type": "code",
   "execution_count": null,
   "id": "f5d157be",
   "metadata": {},
   "outputs": [],
   "source": [
    "# ✅ 1. Install requirements (optional if already installed)\n",
    "!pip install -r requirements.txt"
   ]
  },
  {
   "cell_type": "code",
   "execution_count": null,
   "id": "745a3938",
   "metadata": {},
   "outputs": [],
   "source": [
    "# ✅ 2. Check environment values\n",
    "from cli import check_env\n",
    "check_env.main()"
   ]
  },
  {
   "cell_type": "code",
   "execution_count": null,
   "id": "2fb40cbe",
   "metadata": {},
   "outputs": [],
   "source": [
    "# ✅ 3. Run BigQuery setup (dataset + tables)\n",
    "from cli import setup_bq\n",
    "setup_bq.main()"
   ]
  },
  {
   "cell_type": "code",
   "execution_count": null,
   "id": "14ed53fb",
   "metadata": {},
   "outputs": [],
   "source": [
    "# ✅ 4. Run Vertex AI Search setup (bucket + export JSONL)\n",
    "from cli import setup_search_infra\n",
    "setup_search_infra.main()"
   ]
  },
  {
   "cell_type": "code",
   "execution_count": null,
   "id": "8b13506a",
   "metadata": {},
   "outputs": [],
   "source": [
    "# ✅ 5. Run schema setup (schema in BQ -> schema in Search)\n",
    "from cli import setup_search_ingest\n",
    "setup_search_ingest.main()"
   ]
  },
  {
   "cell_type": "code",
   "execution_count": null,
   "id": "b291ac0e",
   "metadata": {},
   "outputs": [],
   "source": [
    "# ✅ 5. Run tests to verify everything is working\n",
    "!python -m pytest -q"
   ]
  }
 ],
 "metadata": {
  "kernelspec": {
   "display_name": "Python 3",
   "language": "python",
   "name": "python3"
  },
  "language_info": {
   "codemirror_mode": {
    "name": "ipython",
    "version": 3
   },
   "file_extension": ".py",
   "mimetype": "text/x-python",
   "name": "python",
   "nbconvert_exporter": "python",
   "pygments_lexer": "ipython3",
   "version": "3.11.9"
  }
 },
 "nbformat": 4,
 "nbformat_minor": 5
}
