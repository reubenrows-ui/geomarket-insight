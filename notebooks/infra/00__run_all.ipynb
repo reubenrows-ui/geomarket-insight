{
 "cells": [
  {
   "cell_type": "markdown",
   "metadata": {},
   "source": [
    "# 🔧 Run All Setup Tasks\n",
    "\n",
    "This notebook automates the common steps:\n",
    "1. Install dependencies (if running in fresh env)\n",
    "2. Check `.env`\n",
    "3. Run BigQuery setup\n",
    "4. Run Vertex AI Search export/setup\n",
    "5. Run pytest suite\n",
    "\n",
    "⚠️ Requires: `.env` populated and `gcloud auth application-default login` done once."
   ]
  },
  {
   "cell_type": "code",
   "metadata": {},
   "execution_count": null,
   "outputs": [],
   "source": [
    "# ✅ 1. Install requirements (optional if already installed)\n",
    "!pip install -r ../requirements.txt"
   ]
  },
  {
   "cell_type": "code",
   "metadata": {},
   "execution_count": null,
   "outputs": [],
   "source": [
    "# ✅ 2. Check environment values\n",
    "from cli import check_env\n",
    "check_env.main()"
   ]
  },
  {
   "cell_type": "code",
   "metadata": {},
   "execution_count": null,
   "outputs": [],
   "source": [
    "# ✅ 3. Run BigQuery setup (dataset + tables)\n",
    "from cli import setup_bq\n",
    "setup_bq.main()"
   ]
  },
  {
   "cell_type": "code",
   "metadata": {},
   "execution_count": null,
   "outputs": [],
   "source": [
    "# ✅ 4. Run Vertex AI Search setup (bucket + export JSONL)\n",
    "from cli import setup_search\n",
    "setup_search.main()"
   ]
  },
  {
   "cell_type": "code",
   "metadata": {},
   "execution_count": null,
   "outputs": [],
   "source": [
    "# ✅ 5. Run tests\n",
    "!python -m pytest -q"
   ]
  }
 ],
 "metadata": {
  "kernelspec": {
   "display_name": "Python 3",
   "language": "python",
   "name": "python3"
  },
  "language_info": {
   "name": "python",
   "version": "3.10"
  }
 },
 "nbformat": 4,
 "nbformat_minor": 5
}
