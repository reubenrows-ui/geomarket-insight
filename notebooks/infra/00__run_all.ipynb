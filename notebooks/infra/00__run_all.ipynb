{
 "cells": [
  {
   "cell_type": "markdown",
   "id": "f6bbff9c",
   "metadata": {},
   "source": [
    "# 🔧 Run All Setup Tasks\n",
    "\n",
    "This notebook automates the common steps:\n",
    "1. Install dependencies (if running in fresh env)\n",
    "2. Check `.env`\n",
    "3. Run BigQuery setup\n",
    "4. Run Vertex AI Search export/setup\n",
    "5. Run pytest suite\n",
    "\n",
    "⚠️ Requires: `.env` populated and `gcloud auth application-default login` done once."
   ]
  },
  {
   "cell_type": "code",
   "execution_count": 1,
   "id": "297aacb3",
   "metadata": {},
   "outputs": [
    {
     "name": "stdout",
     "output_type": "stream",
     "text": [
      "Repo root: C:\\Users\\reube\\OneDrive\\Desktop\\Kaggle\\geomarket-insight\n",
      "Python exe: C:\\Users\\reube\\AppData\\Local\\Microsoft\\WindowsApps\\PythonSoftwareFoundation.Python.3.11_qbz5n2kfra8p0\\python.exe\n",
      "sys.path[0]: C:\\Users\\reube\\OneDrive\\Desktop\\Kaggle\\geomarket-insight\n"
     ]
    }
   ],
   "source": [
    "# --- Make repo imports (cli/, backend/, tools/) work inside this notebook ---\n",
    "import os, sys, pathlib\n",
    "\n",
    "# Find the repo root by walking up until we see requirements.txt\n",
    "here = pathlib.Path().resolve()\n",
    "candidates = [here, *here.parents]\n",
    "root = None\n",
    "for p in candidates:\n",
    "    if (p / \"requirements.txt\").exists() and (p / \"backend\").exists():\n",
    "        root = p\n",
    "        break\n",
    "\n",
    "if root is None:\n",
    "    raise RuntimeError(\"Could not locate repo root (missing requirements.txt). Move this notebook into the repo or update the search logic.\")\n",
    "\n",
    "# 1) Put repo root at the front of sys.path so `import cli` works\n",
    "root_str = str(root)\n",
    "if root_str not in sys.path:\n",
    "    sys.path.insert(0, root_str)\n",
    "\n",
    "# 2) Switch working dir to repo root so relative paths (e.g., tests/, notebooks/, etc.) work\n",
    "os.chdir(root_str)\n",
    "\n",
    "print(\"Repo root:\", root_str)\n",
    "print(\"Python exe:\", sys.executable)\n",
    "print(\"sys.path[0]:\", sys.path[0])\n"
   ]
  },
  {
   "cell_type": "code",
   "execution_count": 2,
   "id": "f5d157be",
   "metadata": {},
   "outputs": [
    {
     "name": "stdout",
     "output_type": "stream",
     "text": [
      "Requirement already satisfied: python-dotenv==1.1.1 in c:\\users\\reube\\appdata\\local\\packages\\pythonsoftwarefoundation.python.3.11_qbz5n2kfra8p0\\localcache\\local-packages\\python311\\site-packages (from -r requirements.txt (line 1)) (1.1.1)\n",
      "Requirement already satisfied: google-auth==2.40.3 in c:\\users\\reube\\appdata\\local\\packages\\pythonsoftwarefoundation.python.3.11_qbz5n2kfra8p0\\localcache\\local-packages\\python311\\site-packages (from -r requirements.txt (line 2)) (2.40.3)\n",
      "Requirement already satisfied: google-cloud-bigquery==3.36.0 in c:\\users\\reube\\appdata\\local\\packages\\pythonsoftwarefoundation.python.3.11_qbz5n2kfra8p0\\localcache\\local-packages\\python311\\site-packages (from -r requirements.txt (line 3)) (3.36.0)\n",
      "Requirement already satisfied: google-cloud-discoveryengine==0.13.11 in c:\\users\\reube\\appdata\\local\\packages\\pythonsoftwarefoundation.python.3.11_qbz5n2kfra8p0\\localcache\\local-packages\\python311\\site-packages (from -r requirements.txt (line 4)) (0.13.11)\n",
      "Requirement already satisfied: google-cloud-storage==3.3.0 in c:\\users\\reube\\appdata\\local\\packages\\pythonsoftwarefoundation.python.3.11_qbz5n2kfra8p0\\localcache\\local-packages\\python311\\site-packages (from -r requirements.txt (line 5)) (3.3.0)\n",
      "Requirement already satisfied: pydantic==2.11.7 in c:\\users\\reube\\appdata\\local\\packages\\pythonsoftwarefoundation.python.3.11_qbz5n2kfra8p0\\localcache\\local-packages\\python311\\site-packages (from -r requirements.txt (line 6)) (2.11.7)\n",
      "Requirement already satisfied: pytest==8.4.1 in c:\\users\\reube\\appdata\\local\\packages\\pythonsoftwarefoundation.python.3.11_qbz5n2kfra8p0\\localcache\\local-packages\\python311\\site-packages (from -r requirements.txt (line 8)) (8.4.1)\n",
      "Requirement already satisfied: invoke==2.2.0 in c:\\users\\reube\\appdata\\local\\packages\\pythonsoftwarefoundation.python.3.11_qbz5n2kfra8p0\\localcache\\local-packages\\python311\\site-packages (from -r requirements.txt (line 9)) (2.2.0)\n",
      "Requirement already satisfied: google-api-core==2.25.1 in c:\\users\\reube\\appdata\\local\\packages\\pythonsoftwarefoundation.python.3.11_qbz5n2kfra8p0\\localcache\\local-packages\\python311\\site-packages (from -r requirements.txt (line 11)) (2.25.1)\n",
      "Requirement already satisfied: cachetools<6.0,>=2.0.0 in c:\\users\\reube\\appdata\\local\\packages\\pythonsoftwarefoundation.python.3.11_qbz5n2kfra8p0\\localcache\\local-packages\\python311\\site-packages (from google-auth==2.40.3->-r requirements.txt (line 2)) (5.5.2)\n",
      "Requirement already satisfied: pyasn1-modules>=0.2.1 in c:\\users\\reube\\appdata\\local\\packages\\pythonsoftwarefoundation.python.3.11_qbz5n2kfra8p0\\localcache\\local-packages\\python311\\site-packages (from google-auth==2.40.3->-r requirements.txt (line 2)) (0.4.2)\n",
      "Requirement already satisfied: rsa<5,>=3.1.4 in c:\\users\\reube\\appdata\\local\\packages\\pythonsoftwarefoundation.python.3.11_qbz5n2kfra8p0\\localcache\\local-packages\\python311\\site-packages (from google-auth==2.40.3->-r requirements.txt (line 2)) (4.9.1)\n",
      "Requirement already satisfied: google-cloud-core<3.0.0,>=2.4.1 in c:\\users\\reube\\appdata\\local\\packages\\pythonsoftwarefoundation.python.3.11_qbz5n2kfra8p0\\localcache\\local-packages\\python311\\site-packages (from google-cloud-bigquery==3.36.0->-r requirements.txt (line 3)) (2.4.3)\n",
      "Requirement already satisfied: google-resumable-media<3.0.0,>=2.0.0 in c:\\users\\reube\\appdata\\local\\packages\\pythonsoftwarefoundation.python.3.11_qbz5n2kfra8p0\\localcache\\local-packages\\python311\\site-packages (from google-cloud-bigquery==3.36.0->-r requirements.txt (line 3)) (2.7.2)\n",
      "Requirement already satisfied: packaging>=24.2.0 in c:\\users\\reube\\appdata\\local\\packages\\pythonsoftwarefoundation.python.3.11_qbz5n2kfra8p0\\localcache\\local-packages\\python311\\site-packages (from google-cloud-bigquery==3.36.0->-r requirements.txt (line 3)) (25.0)\n",
      "Requirement already satisfied: python-dateutil<3.0.0,>=2.8.2 in c:\\users\\reube\\appdata\\local\\packages\\pythonsoftwarefoundation.python.3.11_qbz5n2kfra8p0\\localcache\\local-packages\\python311\\site-packages (from google-cloud-bigquery==3.36.0->-r requirements.txt (line 3)) (2.9.0.post0)\n",
      "Requirement already satisfied: requests<3.0.0,>=2.21.0 in c:\\users\\reube\\appdata\\local\\packages\\pythonsoftwarefoundation.python.3.11_qbz5n2kfra8p0\\localcache\\local-packages\\python311\\site-packages (from google-cloud-bigquery==3.36.0->-r requirements.txt (line 3)) (2.32.5)\n",
      "Requirement already satisfied: proto-plus<2.0.0,>=1.22.3 in c:\\users\\reube\\appdata\\local\\packages\\pythonsoftwarefoundation.python.3.11_qbz5n2kfra8p0\\localcache\\local-packages\\python311\\site-packages (from google-cloud-discoveryengine==0.13.11->-r requirements.txt (line 4)) (1.26.1)\n",
      "Requirement already satisfied: protobuf!=4.21.0,!=4.21.1,!=4.21.2,!=4.21.3,!=4.21.4,!=4.21.5,<7.0.0,>=3.20.2 in c:\\users\\reube\\appdata\\local\\packages\\pythonsoftwarefoundation.python.3.11_qbz5n2kfra8p0\\localcache\\local-packages\\python311\\site-packages (from google-cloud-discoveryengine==0.13.11->-r requirements.txt (line 4)) (6.32.0)\n",
      "Requirement already satisfied: google-crc32c<2.0.0,>=1.1.3 in c:\\users\\reube\\appdata\\local\\packages\\pythonsoftwarefoundation.python.3.11_qbz5n2kfra8p0\\localcache\\local-packages\\python311\\site-packages (from google-cloud-storage==3.3.0->-r requirements.txt (line 5)) (1.7.1)\n",
      "Requirement already satisfied: annotated-types>=0.6.0 in c:\\users\\reube\\appdata\\local\\packages\\pythonsoftwarefoundation.python.3.11_qbz5n2kfra8p0\\localcache\\local-packages\\python311\\site-packages (from pydantic==2.11.7->-r requirements.txt (line 6)) (0.7.0)\n",
      "Requirement already satisfied: pydantic-core==2.33.2 in c:\\users\\reube\\appdata\\local\\packages\\pythonsoftwarefoundation.python.3.11_qbz5n2kfra8p0\\localcache\\local-packages\\python311\\site-packages (from pydantic==2.11.7->-r requirements.txt (line 6)) (2.33.2)\n",
      "Requirement already satisfied: typing-extensions>=4.12.2 in c:\\users\\reube\\appdata\\local\\packages\\pythonsoftwarefoundation.python.3.11_qbz5n2kfra8p0\\localcache\\local-packages\\python311\\site-packages (from pydantic==2.11.7->-r requirements.txt (line 6)) (4.14.1)\n",
      "Requirement already satisfied: typing-inspection>=0.4.0 in c:\\users\\reube\\appdata\\local\\packages\\pythonsoftwarefoundation.python.3.11_qbz5n2kfra8p0\\localcache\\local-packages\\python311\\site-packages (from pydantic==2.11.7->-r requirements.txt (line 6)) (0.4.1)\n",
      "Requirement already satisfied: colorama>=0.4 in c:\\users\\reube\\appdata\\local\\packages\\pythonsoftwarefoundation.python.3.11_qbz5n2kfra8p0\\localcache\\local-packages\\python311\\site-packages (from pytest==8.4.1->-r requirements.txt (line 8)) (0.4.6)\n",
      "Requirement already satisfied: iniconfig>=1 in c:\\users\\reube\\appdata\\local\\packages\\pythonsoftwarefoundation.python.3.11_qbz5n2kfra8p0\\localcache\\local-packages\\python311\\site-packages (from pytest==8.4.1->-r requirements.txt (line 8)) (2.1.0)\n",
      "Requirement already satisfied: pluggy<2,>=1.5 in c:\\users\\reube\\appdata\\local\\packages\\pythonsoftwarefoundation.python.3.11_qbz5n2kfra8p0\\localcache\\local-packages\\python311\\site-packages (from pytest==8.4.1->-r requirements.txt (line 8)) (1.6.0)\n",
      "Requirement already satisfied: pygments>=2.7.2 in c:\\users\\reube\\appdata\\local\\packages\\pythonsoftwarefoundation.python.3.11_qbz5n2kfra8p0\\localcache\\local-packages\\python311\\site-packages (from pytest==8.4.1->-r requirements.txt (line 8)) (2.19.2)\n",
      "Requirement already satisfied: googleapis-common-protos<2.0.0,>=1.56.2 in c:\\users\\reube\\appdata\\local\\packages\\pythonsoftwarefoundation.python.3.11_qbz5n2kfra8p0\\localcache\\local-packages\\python311\\site-packages (from google-api-core==2.25.1->-r requirements.txt (line 11)) (1.70.0)\n",
      "Requirement already satisfied: grpcio<2.0.0,>=1.33.2 in c:\\users\\reube\\appdata\\local\\packages\\pythonsoftwarefoundation.python.3.11_qbz5n2kfra8p0\\localcache\\local-packages\\python311\\site-packages (from google-api-core[grpc]<3.0.0,>=2.11.1->google-cloud-bigquery==3.36.0->-r requirements.txt (line 3)) (1.74.0)\n",
      "Requirement already satisfied: grpcio-status<2.0.0,>=1.33.2 in c:\\users\\reube\\appdata\\local\\packages\\pythonsoftwarefoundation.python.3.11_qbz5n2kfra8p0\\localcache\\local-packages\\python311\\site-packages (from google-api-core[grpc]<3.0.0,>=2.11.1->google-cloud-bigquery==3.36.0->-r requirements.txt (line 3)) (1.74.0)\n",
      "Requirement already satisfied: pyasn1<0.7.0,>=0.6.1 in c:\\users\\reube\\appdata\\local\\packages\\pythonsoftwarefoundation.python.3.11_qbz5n2kfra8p0\\localcache\\local-packages\\python311\\site-packages (from pyasn1-modules>=0.2.1->google-auth==2.40.3->-r requirements.txt (line 2)) (0.6.1)\n",
      "Requirement already satisfied: six>=1.5 in c:\\users\\reube\\appdata\\local\\packages\\pythonsoftwarefoundation.python.3.11_qbz5n2kfra8p0\\localcache\\local-packages\\python311\\site-packages (from python-dateutil<3.0.0,>=2.8.2->google-cloud-bigquery==3.36.0->-r requirements.txt (line 3)) (1.17.0)\n",
      "Requirement already satisfied: charset_normalizer<4,>=2 in c:\\users\\reube\\appdata\\local\\packages\\pythonsoftwarefoundation.python.3.11_qbz5n2kfra8p0\\localcache\\local-packages\\python311\\site-packages (from requests<3.0.0,>=2.21.0->google-cloud-bigquery==3.36.0->-r requirements.txt (line 3)) (3.4.3)\n",
      "Requirement already satisfied: idna<4,>=2.5 in c:\\users\\reube\\appdata\\local\\packages\\pythonsoftwarefoundation.python.3.11_qbz5n2kfra8p0\\localcache\\local-packages\\python311\\site-packages (from requests<3.0.0,>=2.21.0->google-cloud-bigquery==3.36.0->-r requirements.txt (line 3)) (3.10)\n",
      "Requirement already satisfied: urllib3<3,>=1.21.1 in c:\\users\\reube\\appdata\\local\\packages\\pythonsoftwarefoundation.python.3.11_qbz5n2kfra8p0\\localcache\\local-packages\\python311\\site-packages (from requests<3.0.0,>=2.21.0->google-cloud-bigquery==3.36.0->-r requirements.txt (line 3)) (2.5.0)\n",
      "Requirement already satisfied: certifi>=2017.4.17 in c:\\users\\reube\\appdata\\local\\packages\\pythonsoftwarefoundation.python.3.11_qbz5n2kfra8p0\\localcache\\local-packages\\python311\\site-packages (from requests<3.0.0,>=2.21.0->google-cloud-bigquery==3.36.0->-r requirements.txt (line 3)) (2025.8.3)\n"
     ]
    },
    {
     "name": "stderr",
     "output_type": "stream",
     "text": [
      "\n",
      "[notice] A new release of pip is available: 24.0 -> 25.2\n",
      "[notice] To update, run: C:\\Users\\reube\\AppData\\Local\\Microsoft\\WindowsApps\\PythonSoftwareFoundation.Python.3.11_qbz5n2kfra8p0\\python.exe -m pip install --upgrade pip\n"
     ]
    }
   ],
   "source": [
    "# ✅ 1. Install requirements (optional if already installed)\n",
    "!pip install -r requirements.txt"
   ]
  },
  {
   "cell_type": "code",
   "execution_count": 3,
   "id": "745a3938",
   "metadata": {},
   "outputs": [
    {
     "name": "stdout",
     "output_type": "stream",
     "text": [
      "✅ Environment OK\n",
      "PROJECT_ID = abstract-arc-469501-e2\n",
      "DATASET_NAME = bigquery_comp_dataset\n",
      "LOCATION = US\n",
      "GCS_BUCKET = geomarket-insight-ingest\n",
      "SEARCH_LOCATION = global\n",
      "SEARCH_COLLECTION_ID = default_collection\n",
      "SEARCH_DATASTORE_CATEGORIES = cat_vocab_datastores\n",
      "SEARCH_DATASTORE_GAZETTEER = gazetteer_datastores\n",
      "USER_AGENT = geo_reverse_demo\n"
     ]
    }
   ],
   "source": [
    "# ✅ 2. Check environment values\n",
    "from cli import check_env\n",
    "check_env.main()"
   ]
  },
  {
   "cell_type": "code",
   "execution_count": 4,
   "id": "2fb40cbe",
   "metadata": {},
   "outputs": [
    {
     "name": "stdout",
     "output_type": "stream",
     "text": [
      "✅ Dataset ready: abstract-arc-469501-e2.bigquery_comp_dataset [US]\n",
      "✅ poi_entities created\n",
      "✅ poi_entities search view created\n",
      "✅ area_indicators created\n",
      "✅ area_boundaries created\n",
      "✅ org_locations created\n",
      "✅ org_locations search view created\n"
     ]
    }
   ],
   "source": [
    "# ✅ 3. Run BigQuery setup (dataset + tables)\n",
    "from cli import setup_bq\n",
    "setup_bq.main()"
   ]
  },
  {
   "cell_type": "code",
   "execution_count": 5,
   "id": "14ed53fb",
   "metadata": {},
   "outputs": [
    {
     "name": "stdout",
     "output_type": "stream",
     "text": [
      "✅ Bucket already exists: geomarket-insight-ingest\n",
      "✅ Bucket ready: gs://geomarket-insight-ingest\n",
      "✅ Exported abstract-arc-469501-e2.bigquery_comp_dataset.poi_entities → gs://geomarket-insight-ingest/search_exports/poi_entities.jsonl\n",
      "✅ Exported abstract-arc-469501-e2.bigquery_comp_dataset.org_locations → gs://geomarket-insight-ingest/search_exports/org_locations.jsonl\n",
      "✅ Exported abstract-arc-469501-e2.bigquery_comp_dataset.area_boundaries → gs://geomarket-insight-ingest/search_exports/area_boundaries.jsonl\n",
      "✅ Exported abstract-arc-469501-e2.bigquery_comp_dataset.area_indicators → gs://geomarket-insight-ingest/search_exports/area_indicators.jsonl\n",
      "✅ setup_search completed.\n"
     ]
    }
   ],
   "source": [
    "# ✅ 4. Run Vertex AI Search setup (bucket + export JSONL)\n",
    "from cli import setup_search\n",
    "setup_search.main()"
   ]
  },
  {
   "cell_type": "code",
   "execution_count": null,
   "id": "b291ac0e",
   "metadata": {},
   "outputs": [
    {
     "name": "stdout",
     "output_type": "stream",
     "text": [
      "\u001b[32m.\u001b[0m\u001b[32m.\u001b[0m\u001b[32m.\u001b[0m\u001b[32m.\u001b[0m\u001b[32m.\u001b[0m\u001b[32m.\u001b[0m\u001b[32m                                                                   [100%]\u001b[0m\n",
      "\u001b[32m\u001b[32m\u001b[1m6 passed\u001b[0m\u001b[32m in 1.09s\u001b[0m\u001b[0m\n"
     ]
    }
   ],
   "source": [
    "# ✅ 5. Run tests to verify everything is working\n",
    "!python -m pytest -q"
   ]
  },
  {
   "cell_type": "code",
   "execution_count": null,
   "id": "868697a3",
   "metadata": {},
   "outputs": [],
   "source": []
  }
 ],
 "metadata": {
  "kernelspec": {
   "display_name": "Python 3",
   "language": "python",
   "name": "python3"
  },
  "language_info": {
   "codemirror_mode": {
    "name": "ipython",
    "version": 3
   },
   "file_extension": ".py",
   "mimetype": "text/x-python",
   "name": "python",
   "nbconvert_exporter": "python",
   "pygments_lexer": "ipython3",
   "version": "3.11.9"
  }
 },
 "nbformat": 4,
 "nbformat_minor": 5
}
