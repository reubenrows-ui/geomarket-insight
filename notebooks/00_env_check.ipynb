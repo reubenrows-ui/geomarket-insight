{
 "cells": [
  {
   "cell_type": "code",
   "execution_count": 1,
   "id": "f4e34e8f",
   "metadata": {},
   "outputs": [
    {
     "name": "stdout",
     "output_type": "stream",
     "text": [
      "✅ Loaded env variables:\n",
      "PROJECT_ID: abstract-arc-469501-e2\n",
      "DATASET_NAME: bigquery_comp_dataset\n",
      "LOCATION: US\n"
     ]
    }
   ],
   "source": [
    "# --- 1. Load environment variables ---\n",
    "from dotenv import load_dotenv\n",
    "import os\n",
    "from pathlib import Path\n",
    "\n",
    "# Look for .env in repo root (adjust if it's in another dir)\n",
    "env_path = Path(\"..\") / \".env\"\n",
    "if not env_path.exists():\n",
    "    raise FileNotFoundError(f\".env not found at {env_path.resolve()}\")\n",
    "\n",
    "load_dotenv(env_path)\n",
    "\n",
    "# --- 2. Read values ---\n",
    "PROJECT_ID = os.getenv(\"PROJECT_ID\")\n",
    "DATASET_NAME = os.getenv(\"DATASET_NAME\")\n",
    "LOCATION = os.getenv(\"LOCATION\", \"us-central1\")\n",
    "SA_KEY  = os.getenv(\"GOOGLE_APPLICATION_CREDENTIALS\")\n",
    "\n",
    "print(\"✅ Loaded env variables:\")\n",
    "print(\"PROJECT_ID:\", PROJECT_ID)\n",
    "print(\"DATASET_NAME:\", DATASET_NAME)\n",
    "print(\"LOCATION:\", LOCATION)\n"
   ]
  },
  {
   "cell_type": "code",
   "execution_count": 2,
   "id": "59842d30",
   "metadata": {},
   "outputs": [
    {
     "name": "stdout",
     "output_type": "stream",
     "text": [
      "✅ Authenticated with service account: 597564348526-compute@developer.gserviceaccount.com\n"
     ]
    }
   ],
   "source": [
    "# --- 3. Check Google Cloud authentication ---\n",
    "from google.oauth2 import service_account\n",
    "\n",
    "if not SA_KEY or not Path(SA_KEY).exists():\n",
    "    raise FileNotFoundError(\"Service account key file not found. Check GOOGLE_APPLICATION_CREDENTIALS.\")\n",
    "\n",
    "creds = service_account.Credentials.from_service_account_file(SA_KEY)\n",
    "\n",
    "print(\"✅ Authenticated with service account:\", creds.service_account_email)\n"
   ]
  },
  {
   "cell_type": "code",
   "execution_count": 3,
   "id": "dac15104",
   "metadata": {},
   "outputs": [
    {
     "name": "stdout",
     "output_type": "stream",
     "text": [
      "Hello from BigQuery\n"
     ]
    }
   ],
   "source": [
    "# --- Cell 3: Test BigQuery client ---\n",
    "from google.cloud import bigquery\n",
    "\n",
    "bq_client = bigquery.Client(project=PROJECT_ID, credentials=creds)\n",
    "\n",
    "# Quick test query\n",
    "query = \"SELECT 'Hello from BigQuery' as msg\"\n",
    "rows = list(bq_client.query(query).result())\n",
    "print(rows[0].msg)\n"
   ]
  },
  {
   "cell_type": "code",
   "execution_count": 4,
   "id": "ec94a9e3",
   "metadata": {},
   "outputs": [
    {
     "name": "stdout",
     "output_type": "stream",
     "text": [
      "✅ Vertex AI Search client is ready.\n"
     ]
    }
   ],
   "source": [
    "# --- Cell 4: Test Vertex AI Search client (Discovery Engine) ---\n",
    "from google.cloud import discoveryengine_v1 as de\n",
    "\n",
    "# A SearchServiceClient can list or query once you have an Engine\n",
    "search_client = de.SearchServiceClient(credentials=creds)\n",
    "\n",
    "# Just check the client instantiates without error\n",
    "print(\"✅ Vertex AI Search client is ready.\")\n",
    "\n",
    "# If you want to confirm resources exist, you can list DataStores in the default collection\n",
    "ds_client = de.DataStoreServiceClient(credentials=creds)\n",
    "parent = f\"projects/{PROJECT_ID}/locations/global/collections/default_collection\"\n",
    "\n",
    "for ds in ds_client.list_data_stores(parent=parent):\n",
    "    print(\" - DataStore:\", ds.name)\n"
   ]
  },
  {
   "cell_type": "code",
   "execution_count": 5,
   "id": "f4de71b8",
   "metadata": {},
   "outputs": [
    {
     "name": "stdout",
     "output_type": "stream",
     "text": [
      "✅ GCS connected. Sample buckets:\n",
      " - 597564348526_us_import\n",
      " - cloud-ai-platform-3494133b-91fb-4ec3-b136-8334901360ba\n",
      " - cloud-ai-platform-523554d0-0c5c-493c-a958-a89dbbab84fc\n"
     ]
    }
   ],
   "source": [
    "# --- Cell 5: Confirm GCS bucket access ---\n",
    "from google.cloud import storage\n",
    "\n",
    "storage_client = storage.Client(project=PROJECT_ID, credentials=creds)\n",
    "buckets = list(storage_client.list_buckets(max_results=3))\n",
    "\n",
    "print(\"✅ GCS connected. Sample buckets:\")\n",
    "for b in buckets:\n",
    "    print(\" -\", b.name)\n"
   ]
  }
 ],
 "metadata": {
  "kernelspec": {
   "display_name": "Python 3",
   "language": "python",
   "name": "python3"
  },
  "language_info": {
   "codemirror_mode": {
    "name": "ipython",
    "version": 3
   },
   "file_extension": ".py",
   "mimetype": "text/x-python",
   "name": "python",
   "nbconvert_exporter": "python",
   "pygments_lexer": "ipython3",
   "version": "3.11.9"
  }
 },
 "nbformat": 4,
 "nbformat_minor": 5
}
